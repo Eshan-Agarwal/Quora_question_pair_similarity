{
 "cells": [
  {
   "cell_type": "code",
   "execution_count": 1,
   "metadata": {},
   "outputs": [],
   "source": [
    "import pandas as pd\n",
    "import matplotlib.pyplot as plt\n",
    "import re\n",
    "import time\n",
    "import warnings\n",
    "import numpy as np\n",
    "from nltk.corpus import stopwords\n",
    "from sklearn.preprocessing import normalize\n",
    "from sklearn.feature_extraction.text import CountVectorizer\n",
    "from sklearn.feature_extraction.text import TfidfVectorizer\n",
    "warnings.filterwarnings(\"ignore\")\n",
    "import sys\n",
    "import os \n",
    "import pandas as pd\n",
    "import numpy as np\n",
    "from tqdm import tqdm\n",
    "\n",
    "# exctract word2vec vectors\n",
    "# https://github.com/explosion/spaCy/issues/1721\n",
    "# http://landinghub.visualstudio.com/visual-cpp-build-tools\n",
    "import spacy"
   ]
  },
  {
   "cell_type": "code",
   "execution_count": 2,
   "metadata": {},
   "outputs": [],
   "source": [
    "# avoid decoding problems\n",
    "df = pd.read_csv(\"train.csv\")\n",
    " \n",
    "# encode questions to unicode\n",
    "# https://stackoverflow.com/a/6812069\n",
    "# ----------------- python 2 ---------------------\n",
    "# df['question1'] = df['question1'].apply(lambda x: unicode(str(x),\"utf-8\"))\n",
    "# df['question2'] = df['question2'].apply(lambda x: unicode(str(x),\"utf-8\"))\n",
    "# ----------------- python 3 ---------------------\n",
    "df['question1'] = df['question1'].apply(lambda x: str(x))\n",
    "df['question2'] = df['question2'].apply(lambda x: str(x))"
   ]
  },
  {
   "cell_type": "code",
   "execution_count": 3,
   "metadata": {},
   "outputs": [
    {
     "data": {
      "text/html": [
       "<div>\n",
       "<style scoped>\n",
       "    .dataframe tbody tr th:only-of-type {\n",
       "        vertical-align: middle;\n",
       "    }\n",
       "\n",
       "    .dataframe tbody tr th {\n",
       "        vertical-align: top;\n",
       "    }\n",
       "\n",
       "    .dataframe thead th {\n",
       "        text-align: right;\n",
       "    }\n",
       "</style>\n",
       "<table border=\"1\" class=\"dataframe\">\n",
       "  <thead>\n",
       "    <tr style=\"text-align: right;\">\n",
       "      <th></th>\n",
       "      <th>id</th>\n",
       "      <th>qid1</th>\n",
       "      <th>qid2</th>\n",
       "      <th>question1</th>\n",
       "      <th>question2</th>\n",
       "      <th>is_duplicate</th>\n",
       "    </tr>\n",
       "  </thead>\n",
       "  <tbody>\n",
       "    <tr>\n",
       "      <th>0</th>\n",
       "      <td>0</td>\n",
       "      <td>1</td>\n",
       "      <td>2</td>\n",
       "      <td>What is the step by step guide to invest in sh...</td>\n",
       "      <td>What is the step by step guide to invest in sh...</td>\n",
       "      <td>0</td>\n",
       "    </tr>\n",
       "    <tr>\n",
       "      <th>1</th>\n",
       "      <td>1</td>\n",
       "      <td>3</td>\n",
       "      <td>4</td>\n",
       "      <td>What is the story of Kohinoor (Koh-i-Noor) Dia...</td>\n",
       "      <td>What would happen if the Indian government sto...</td>\n",
       "      <td>0</td>\n",
       "    </tr>\n",
       "    <tr>\n",
       "      <th>2</th>\n",
       "      <td>2</td>\n",
       "      <td>5</td>\n",
       "      <td>6</td>\n",
       "      <td>How can I increase the speed of my internet co...</td>\n",
       "      <td>How can Internet speed be increased by hacking...</td>\n",
       "      <td>0</td>\n",
       "    </tr>\n",
       "    <tr>\n",
       "      <th>3</th>\n",
       "      <td>3</td>\n",
       "      <td>7</td>\n",
       "      <td>8</td>\n",
       "      <td>Why am I mentally very lonely? How can I solve...</td>\n",
       "      <td>Find the remainder when [math]23^{24}[/math] i...</td>\n",
       "      <td>0</td>\n",
       "    </tr>\n",
       "    <tr>\n",
       "      <th>4</th>\n",
       "      <td>4</td>\n",
       "      <td>9</td>\n",
       "      <td>10</td>\n",
       "      <td>Which one dissolve in water quikly sugar, salt...</td>\n",
       "      <td>Which fish would survive in salt water?</td>\n",
       "      <td>0</td>\n",
       "    </tr>\n",
       "  </tbody>\n",
       "</table>\n",
       "</div>"
      ],
      "text/plain": [
       "   id  qid1  qid2                                          question1  \\\n",
       "0   0     1     2  What is the step by step guide to invest in sh...   \n",
       "1   1     3     4  What is the story of Kohinoor (Koh-i-Noor) Dia...   \n",
       "2   2     5     6  How can I increase the speed of my internet co...   \n",
       "3   3     7     8  Why am I mentally very lonely? How can I solve...   \n",
       "4   4     9    10  Which one dissolve in water quikly sugar, salt...   \n",
       "\n",
       "                                           question2  is_duplicate  \n",
       "0  What is the step by step guide to invest in sh...             0  \n",
       "1  What would happen if the Indian government sto...             0  \n",
       "2  How can Internet speed be increased by hacking...             0  \n",
       "3  Find the remainder when [math]23^{24}[/math] i...             0  \n",
       "4            Which fish would survive in salt water?             0  "
      ]
     },
     "execution_count": 3,
     "metadata": {},
     "output_type": "execute_result"
    }
   ],
   "source": [
    "df.head()"
   ]
  },
  {
   "cell_type": "code",
   "execution_count": 4,
   "metadata": {},
   "outputs": [
    {
     "data": {
      "text/plain": [
       "(404290, 6)"
      ]
     },
     "execution_count": 4,
     "metadata": {},
     "output_type": "execute_result"
    }
   ],
   "source": [
    "df.shape"
   ]
  },
  {
   "cell_type": "markdown",
   "metadata": {},
   "source": [
    "# Load nlp_features_train & df_fe_without_preprocessing_train"
   ]
  },
  {
   "cell_type": "code",
   "execution_count": 5,
   "metadata": {},
   "outputs": [],
   "source": [
    "#prepro_features_train.csv (Simple Preprocessing Feartures)\n",
    "#nlp_features_train.csv (NLP Features)\n",
    "if os.path.isfile('nlp_features_train.csv'):\n",
    "    dfnlp = pd.read_csv(\"nlp_features_train.csv\",encoding='latin-1')\n",
    "else:\n",
    "    print(\"download nlp_features_train.csv from drive or run previous notebook\")\n",
    "\n",
    "if os.path.isfile('df_fe_without_preprocessing_train.csv'):\n",
    "    dfppro = pd.read_csv(\"df_fe_without_preprocessing_train.csv\",encoding='latin-1')\n",
    "else:\n",
    "    print(\"download df_fe_without_preprocessing_train.csv from drive or run previous notebook\")"
   ]
  },
  {
   "cell_type": "code",
   "execution_count": 6,
   "metadata": {},
   "outputs": [],
   "source": [
    "df1 = dfnlp.drop(['qid1','qid2'],axis=1)\n",
    "df2 = dfppro.drop(['qid1','qid2','question1','question2','is_duplicate'],axis=1)\n",
    "df3 = df.drop(['qid1','qid2','question1','question2','is_duplicate'],axis=1)\n"
   ]
  },
  {
   "cell_type": "code",
   "execution_count": 7,
   "metadata": {},
   "outputs": [
    {
     "data": {
      "text/html": [
       "<div>\n",
       "<style scoped>\n",
       "    .dataframe tbody tr th:only-of-type {\n",
       "        vertical-align: middle;\n",
       "    }\n",
       "\n",
       "    .dataframe tbody tr th {\n",
       "        vertical-align: top;\n",
       "    }\n",
       "\n",
       "    .dataframe thead th {\n",
       "        text-align: right;\n",
       "    }\n",
       "</style>\n",
       "<table border=\"1\" class=\"dataframe\">\n",
       "  <thead>\n",
       "    <tr style=\"text-align: right;\">\n",
       "      <th></th>\n",
       "      <th>id</th>\n",
       "      <th>question1</th>\n",
       "      <th>question2</th>\n",
       "      <th>is_duplicate</th>\n",
       "      <th>cwc_min</th>\n",
       "      <th>cwc_max</th>\n",
       "      <th>csc_min</th>\n",
       "      <th>csc_max</th>\n",
       "      <th>ctc_min</th>\n",
       "      <th>ctc_max</th>\n",
       "      <th>last_word_eq</th>\n",
       "      <th>first_word_eq</th>\n",
       "      <th>abs_len_diff</th>\n",
       "      <th>mean_len</th>\n",
       "      <th>token_set_ratio</th>\n",
       "      <th>token_sort_ratio</th>\n",
       "      <th>fuzz_ratio</th>\n",
       "      <th>fuzz_partial_ratio</th>\n",
       "      <th>longest_substr_ratio</th>\n",
       "    </tr>\n",
       "  </thead>\n",
       "  <tbody>\n",
       "    <tr>\n",
       "      <th>0</th>\n",
       "      <td>0</td>\n",
       "      <td>what is the step by step guide to invest in sh...</td>\n",
       "      <td>what is the step by step guide to invest in sh...</td>\n",
       "      <td>0</td>\n",
       "      <td>0.999980</td>\n",
       "      <td>0.833319</td>\n",
       "      <td>0.999983</td>\n",
       "      <td>0.999983</td>\n",
       "      <td>0.916659</td>\n",
       "      <td>0.785709</td>\n",
       "      <td>0.0</td>\n",
       "      <td>1.0</td>\n",
       "      <td>2.0</td>\n",
       "      <td>13.0</td>\n",
       "      <td>100</td>\n",
       "      <td>93</td>\n",
       "      <td>93</td>\n",
       "      <td>100</td>\n",
       "      <td>0.982759</td>\n",
       "    </tr>\n",
       "    <tr>\n",
       "      <th>1</th>\n",
       "      <td>1</td>\n",
       "      <td>what is the story of kohinoor  koh i noor  dia...</td>\n",
       "      <td>what would happen if the indian government sto...</td>\n",
       "      <td>0</td>\n",
       "      <td>0.799984</td>\n",
       "      <td>0.399996</td>\n",
       "      <td>0.749981</td>\n",
       "      <td>0.599988</td>\n",
       "      <td>0.699993</td>\n",
       "      <td>0.466664</td>\n",
       "      <td>0.0</td>\n",
       "      <td>1.0</td>\n",
       "      <td>5.0</td>\n",
       "      <td>12.5</td>\n",
       "      <td>86</td>\n",
       "      <td>63</td>\n",
       "      <td>66</td>\n",
       "      <td>75</td>\n",
       "      <td>0.596154</td>\n",
       "    </tr>\n",
       "    <tr>\n",
       "      <th>2</th>\n",
       "      <td>2</td>\n",
       "      <td>how can i increase the speed of my internet co...</td>\n",
       "      <td>how can internet speed be increased by hacking...</td>\n",
       "      <td>0</td>\n",
       "      <td>0.399992</td>\n",
       "      <td>0.333328</td>\n",
       "      <td>0.399992</td>\n",
       "      <td>0.249997</td>\n",
       "      <td>0.399996</td>\n",
       "      <td>0.285712</td>\n",
       "      <td>0.0</td>\n",
       "      <td>1.0</td>\n",
       "      <td>4.0</td>\n",
       "      <td>12.0</td>\n",
       "      <td>66</td>\n",
       "      <td>66</td>\n",
       "      <td>54</td>\n",
       "      <td>54</td>\n",
       "      <td>0.166667</td>\n",
       "    </tr>\n",
       "  </tbody>\n",
       "</table>\n",
       "</div>"
      ],
      "text/plain": [
       "   id                                          question1  \\\n",
       "0   0  what is the step by step guide to invest in sh...   \n",
       "1   1  what is the story of kohinoor  koh i noor  dia...   \n",
       "2   2  how can i increase the speed of my internet co...   \n",
       "\n",
       "                                           question2  is_duplicate   cwc_min  \\\n",
       "0  what is the step by step guide to invest in sh...             0  0.999980   \n",
       "1  what would happen if the indian government sto...             0  0.799984   \n",
       "2  how can internet speed be increased by hacking...             0  0.399992   \n",
       "\n",
       "    cwc_max   csc_min   csc_max   ctc_min   ctc_max  last_word_eq  \\\n",
       "0  0.833319  0.999983  0.999983  0.916659  0.785709           0.0   \n",
       "1  0.399996  0.749981  0.599988  0.699993  0.466664           0.0   \n",
       "2  0.333328  0.399992  0.249997  0.399996  0.285712           0.0   \n",
       "\n",
       "   first_word_eq  abs_len_diff  mean_len  token_set_ratio  token_sort_ratio  \\\n",
       "0            1.0           2.0      13.0              100                93   \n",
       "1            1.0           5.0      12.5               86                63   \n",
       "2            1.0           4.0      12.0               66                66   \n",
       "\n",
       "   fuzz_ratio  fuzz_partial_ratio  longest_substr_ratio  \n",
       "0          93                 100              0.982759  \n",
       "1          66                  75              0.596154  \n",
       "2          54                  54              0.166667  "
      ]
     },
     "execution_count": 7,
     "metadata": {},
     "output_type": "execute_result"
    }
   ],
   "source": [
    "df1.head(3)"
   ]
  },
  {
   "cell_type": "code",
   "execution_count": 8,
   "metadata": {},
   "outputs": [
    {
     "data": {
      "text/html": [
       "<div>\n",
       "<style scoped>\n",
       "    .dataframe tbody tr th:only-of-type {\n",
       "        vertical-align: middle;\n",
       "    }\n",
       "\n",
       "    .dataframe tbody tr th {\n",
       "        vertical-align: top;\n",
       "    }\n",
       "\n",
       "    .dataframe thead th {\n",
       "        text-align: right;\n",
       "    }\n",
       "</style>\n",
       "<table border=\"1\" class=\"dataframe\">\n",
       "  <thead>\n",
       "    <tr style=\"text-align: right;\">\n",
       "      <th></th>\n",
       "      <th>id</th>\n",
       "      <th>freq_qid1</th>\n",
       "      <th>freq_qid2</th>\n",
       "      <th>q1len</th>\n",
       "      <th>q2len</th>\n",
       "      <th>q1_n_words</th>\n",
       "      <th>q2_n_words</th>\n",
       "      <th>word_Common</th>\n",
       "      <th>word_Total</th>\n",
       "      <th>word_share</th>\n",
       "      <th>freq_q1+q2</th>\n",
       "      <th>freq_q1-q2</th>\n",
       "    </tr>\n",
       "  </thead>\n",
       "  <tbody>\n",
       "    <tr>\n",
       "      <th>0</th>\n",
       "      <td>0</td>\n",
       "      <td>1</td>\n",
       "      <td>1</td>\n",
       "      <td>66</td>\n",
       "      <td>57</td>\n",
       "      <td>14</td>\n",
       "      <td>12</td>\n",
       "      <td>10.0</td>\n",
       "      <td>23.0</td>\n",
       "      <td>0.434783</td>\n",
       "      <td>2</td>\n",
       "      <td>0</td>\n",
       "    </tr>\n",
       "    <tr>\n",
       "      <th>1</th>\n",
       "      <td>1</td>\n",
       "      <td>4</td>\n",
       "      <td>1</td>\n",
       "      <td>51</td>\n",
       "      <td>88</td>\n",
       "      <td>8</td>\n",
       "      <td>13</td>\n",
       "      <td>4.0</td>\n",
       "      <td>20.0</td>\n",
       "      <td>0.200000</td>\n",
       "      <td>5</td>\n",
       "      <td>3</td>\n",
       "    </tr>\n",
       "  </tbody>\n",
       "</table>\n",
       "</div>"
      ],
      "text/plain": [
       "   id  freq_qid1  freq_qid2  q1len  q2len  q1_n_words  q2_n_words  \\\n",
       "0   0          1          1     66     57          14          12   \n",
       "1   1          4          1     51     88           8          13   \n",
       "\n",
       "   word_Common  word_Total  word_share  freq_q1+q2  freq_q1-q2  \n",
       "0         10.0        23.0    0.434783           2           0  \n",
       "1          4.0        20.0    0.200000           5           3  "
      ]
     },
     "execution_count": 8,
     "metadata": {},
     "output_type": "execute_result"
    }
   ],
   "source": [
    "df2.head(2)"
   ]
  },
  {
   "cell_type": "code",
   "execution_count": 9,
   "metadata": {},
   "outputs": [
    {
     "data": {
      "text/html": [
       "<div>\n",
       "<style scoped>\n",
       "    .dataframe tbody tr th:only-of-type {\n",
       "        vertical-align: middle;\n",
       "    }\n",
       "\n",
       "    .dataframe tbody tr th {\n",
       "        vertical-align: top;\n",
       "    }\n",
       "\n",
       "    .dataframe thead th {\n",
       "        text-align: right;\n",
       "    }\n",
       "</style>\n",
       "<table border=\"1\" class=\"dataframe\">\n",
       "  <thead>\n",
       "    <tr style=\"text-align: right;\">\n",
       "      <th></th>\n",
       "      <th>id</th>\n",
       "    </tr>\n",
       "  </thead>\n",
       "  <tbody>\n",
       "    <tr>\n",
       "      <th>0</th>\n",
       "      <td>0</td>\n",
       "    </tr>\n",
       "    <tr>\n",
       "      <th>1</th>\n",
       "      <td>1</td>\n",
       "    </tr>\n",
       "    <tr>\n",
       "      <th>2</th>\n",
       "      <td>2</td>\n",
       "    </tr>\n",
       "  </tbody>\n",
       "</table>\n",
       "</div>"
      ],
      "text/plain": [
       "   id\n",
       "0   0\n",
       "1   1\n",
       "2   2"
      ]
     },
     "execution_count": 9,
     "metadata": {},
     "output_type": "execute_result"
    }
   ],
   "source": [
    "df3.head(3)"
   ]
  },
  {
   "cell_type": "code",
   "execution_count": 10,
   "metadata": {},
   "outputs": [
    {
     "name": "stdout",
     "output_type": "stream",
     "text": [
      "Number of features in nlp dataframe : 19\n",
      "Number of features in preprocessed dataframe : 12\n",
      "Number of features in featured dataframe  : 31\n"
     ]
    }
   ],
   "source": [
    "print(\"Number of features in nlp dataframe :\", df1.shape[1])\n",
    "print(\"Number of features in preprocessed dataframe :\", df2.shape[1])\n",
    "\n",
    "print(\"Number of features in featured dataframe  :\", df1.shape[1]+df2.shape[1])"
   ]
  },
  {
   "cell_type": "markdown",
   "metadata": {},
   "source": [
    "# Merging featured data"
   ]
  },
  {
   "cell_type": "code",
   "execution_count": 11,
   "metadata": {},
   "outputs": [
    {
     "data": {
      "text/plain": [
       "(404290, 30)"
      ]
     },
     "execution_count": 11,
     "metadata": {},
     "output_type": "execute_result"
    }
   ],
   "source": [
    "\n",
    "\n",
    "df1  = df1.merge(df2, on='id',how='left')\n",
    "\n",
    "df1.shape"
   ]
  },
  {
   "cell_type": "code",
   "execution_count": 12,
   "metadata": {},
   "outputs": [
    {
     "data": {
      "text/html": [
       "<div>\n",
       "<style scoped>\n",
       "    .dataframe tbody tr th:only-of-type {\n",
       "        vertical-align: middle;\n",
       "    }\n",
       "\n",
       "    .dataframe tbody tr th {\n",
       "        vertical-align: top;\n",
       "    }\n",
       "\n",
       "    .dataframe thead th {\n",
       "        text-align: right;\n",
       "    }\n",
       "</style>\n",
       "<table border=\"1\" class=\"dataframe\">\n",
       "  <thead>\n",
       "    <tr style=\"text-align: right;\">\n",
       "      <th></th>\n",
       "      <th>id</th>\n",
       "      <th>question1</th>\n",
       "      <th>question2</th>\n",
       "      <th>is_duplicate</th>\n",
       "      <th>cwc_min</th>\n",
       "      <th>cwc_max</th>\n",
       "      <th>csc_min</th>\n",
       "      <th>csc_max</th>\n",
       "      <th>ctc_min</th>\n",
       "      <th>ctc_max</th>\n",
       "      <th>...</th>\n",
       "      <th>freq_qid2</th>\n",
       "      <th>q1len</th>\n",
       "      <th>q2len</th>\n",
       "      <th>q1_n_words</th>\n",
       "      <th>q2_n_words</th>\n",
       "      <th>word_Common</th>\n",
       "      <th>word_Total</th>\n",
       "      <th>word_share</th>\n",
       "      <th>freq_q1+q2</th>\n",
       "      <th>freq_q1-q2</th>\n",
       "    </tr>\n",
       "  </thead>\n",
       "  <tbody>\n",
       "    <tr>\n",
       "      <th>0</th>\n",
       "      <td>0</td>\n",
       "      <td>what is the step by step guide to invest in sh...</td>\n",
       "      <td>what is the step by step guide to invest in sh...</td>\n",
       "      <td>0</td>\n",
       "      <td>0.999980</td>\n",
       "      <td>0.833319</td>\n",
       "      <td>0.999983</td>\n",
       "      <td>0.999983</td>\n",
       "      <td>0.916659</td>\n",
       "      <td>0.785709</td>\n",
       "      <td>...</td>\n",
       "      <td>1</td>\n",
       "      <td>66</td>\n",
       "      <td>57</td>\n",
       "      <td>14</td>\n",
       "      <td>12</td>\n",
       "      <td>10.0</td>\n",
       "      <td>23.0</td>\n",
       "      <td>0.434783</td>\n",
       "      <td>2</td>\n",
       "      <td>0</td>\n",
       "    </tr>\n",
       "    <tr>\n",
       "      <th>1</th>\n",
       "      <td>1</td>\n",
       "      <td>what is the story of kohinoor  koh i noor  dia...</td>\n",
       "      <td>what would happen if the indian government sto...</td>\n",
       "      <td>0</td>\n",
       "      <td>0.799984</td>\n",
       "      <td>0.399996</td>\n",
       "      <td>0.749981</td>\n",
       "      <td>0.599988</td>\n",
       "      <td>0.699993</td>\n",
       "      <td>0.466664</td>\n",
       "      <td>...</td>\n",
       "      <td>1</td>\n",
       "      <td>51</td>\n",
       "      <td>88</td>\n",
       "      <td>8</td>\n",
       "      <td>13</td>\n",
       "      <td>4.0</td>\n",
       "      <td>20.0</td>\n",
       "      <td>0.200000</td>\n",
       "      <td>5</td>\n",
       "      <td>3</td>\n",
       "    </tr>\n",
       "    <tr>\n",
       "      <th>2</th>\n",
       "      <td>2</td>\n",
       "      <td>how can i increase the speed of my internet co...</td>\n",
       "      <td>how can internet speed be increased by hacking...</td>\n",
       "      <td>0</td>\n",
       "      <td>0.399992</td>\n",
       "      <td>0.333328</td>\n",
       "      <td>0.399992</td>\n",
       "      <td>0.249997</td>\n",
       "      <td>0.399996</td>\n",
       "      <td>0.285712</td>\n",
       "      <td>...</td>\n",
       "      <td>1</td>\n",
       "      <td>73</td>\n",
       "      <td>59</td>\n",
       "      <td>14</td>\n",
       "      <td>10</td>\n",
       "      <td>4.0</td>\n",
       "      <td>24.0</td>\n",
       "      <td>0.166667</td>\n",
       "      <td>2</td>\n",
       "      <td>0</td>\n",
       "    </tr>\n",
       "  </tbody>\n",
       "</table>\n",
       "<p>3 rows × 30 columns</p>\n",
       "</div>"
      ],
      "text/plain": [
       "   id                                          question1  \\\n",
       "0   0  what is the step by step guide to invest in sh...   \n",
       "1   1  what is the story of kohinoor  koh i noor  dia...   \n",
       "2   2  how can i increase the speed of my internet co...   \n",
       "\n",
       "                                           question2  is_duplicate   cwc_min  \\\n",
       "0  what is the step by step guide to invest in sh...             0  0.999980   \n",
       "1  what would happen if the indian government sto...             0  0.799984   \n",
       "2  how can internet speed be increased by hacking...             0  0.399992   \n",
       "\n",
       "    cwc_max   csc_min   csc_max   ctc_min   ctc_max  ...  freq_qid2  q1len  \\\n",
       "0  0.833319  0.999983  0.999983  0.916659  0.785709  ...          1     66   \n",
       "1  0.399996  0.749981  0.599988  0.699993  0.466664  ...          1     51   \n",
       "2  0.333328  0.399992  0.249997  0.399996  0.285712  ...          1     73   \n",
       "\n",
       "   q2len  q1_n_words  q2_n_words  word_Common  word_Total  word_share  \\\n",
       "0     57          14          12         10.0        23.0    0.434783   \n",
       "1     88           8          13          4.0        20.0    0.200000   \n",
       "2     59          14          10          4.0        24.0    0.166667   \n",
       "\n",
       "   freq_q1+q2  freq_q1-q2  \n",
       "0           2           0  \n",
       "1           5           3  \n",
       "2           2           0  \n",
       "\n",
       "[3 rows x 30 columns]"
      ]
     },
     "execution_count": 12,
     "metadata": {},
     "output_type": "execute_result"
    }
   ],
   "source": [
    "df1.head(3)"
   ]
  },
  {
   "cell_type": "markdown",
   "metadata": {},
   "source": [
    "# Preprocessing of ques1 & ques2"
   ]
  },
  {
   "cell_type": "code",
   "execution_count": 13,
   "metadata": {},
   "outputs": [],
   "source": [
    "df1[\"question1\"] = df1[\"question1\"].fillna(\"\")\n",
    "df1[\"question2\"] = df1[\"question2\"].fillna(\"\")"
   ]
  },
  {
   "cell_type": "code",
   "execution_count": 14,
   "metadata": {},
   "outputs": [
    {
     "data": {
      "text/plain": [
       "False"
      ]
     },
     "execution_count": 14,
     "metadata": {},
     "output_type": "execute_result"
    }
   ],
   "source": [
    "df1.isnull().any().any()"
   ]
  },
  {
   "cell_type": "code",
   "execution_count": 15,
   "metadata": {},
   "outputs": [],
   "source": [
    "# https://stackoverflow.com/a/47091490/4084039\n",
    "import re\n",
    "\n",
    "def decontracted(phrase):\n",
    "    # specific\n",
    "    phrase = re.sub(r\"won't\", \"will not\", phrase)\n",
    "    phrase = re.sub(r\"can\\'t\", \"can not\", phrase)\n",
    "\n",
    "    # general\n",
    "    phrase = re.sub(r\"n\\'t\", \" not\", phrase)\n",
    "    phrase = re.sub(r\"\\'re\", \" are\", phrase)\n",
    "    phrase = re.sub(r\"\\'s\", \" is\", phrase)\n",
    "    phrase = re.sub(r\"\\'d\", \" would\", phrase)\n",
    "    phrase = re.sub(r\"\\'ll\", \" will\", phrase)\n",
    "    phrase = re.sub(r\"\\'t\", \" not\", phrase)\n",
    "    phrase = re.sub(r\"\\'ve\", \" have\", phrase)\n",
    "    phrase = re.sub(r\"\\'m\", \" am\", phrase)\n",
    "    phrase = re.sub(r\"\\',000,000\", \" m\", phrase)\n",
    "    phrase = re.sub(r\"\\',000\", \" k\", phrase)\n",
    "    phrase = re.sub(r\"\\'₹\", \" rupee\", phrase)\n",
    "    phrase = re.sub(r\"\\'%\", \" percent\", phrase)\n",
    "    phrase = re.sub(r\"\\'$\", \" dollar\", phrase)\n",
    "    \n",
    "    return phrase"
   ]
  },
  {
   "cell_type": "code",
   "execution_count": 16,
   "metadata": {},
   "outputs": [
    {
     "name": "stderr",
     "output_type": "stream",
     "text": [
      "100%|██████████| 404290/404290 [01:35<00:00, 4225.23it/s]\n"
     ]
    }
   ],
   "source": [
    "stopwords = stopwords.words(\"english\")\n",
    "from bs4 import BeautifulSoup\n",
    "from tqdm import tqdm\n",
    "preprocessed_ques1 = []\n",
    "# tqdm is for printing the status bar\n",
    "for sentance in tqdm(df1[\"question1\"].values):\n",
    "    sentance = str(sentance).lower()\n",
    "    sentance = re.sub(r\"http\\S+\", \"\", sentance)\n",
    "    sentance = BeautifulSoup(sentance, 'lxml').get_text()\n",
    "    sentance = decontracted(sentance)\n",
    "    sentance = re.sub(\"\\S*\\d\\S*\", \"\", sentance).strip()\n",
    "    sentance = re.sub('[^A-Za-z]+', ' ', sentance)\n",
    "    \n",
    "    sentance = re.sub(r\"([0-9]+)000000\", r\"\\1m\", sentance)\n",
    "    sentance = re.sub(r\"([0-9]+)000\", r\"\\1k\", sentance)\n",
    "    # https://gist.github.com/sebleier/554280\n",
    "    sentance = ' '.join(e.lower() for e in sentance.split() if e.lower() not in stopwords)\n",
    "    preprocessed_ques1.append(sentance.strip())"
   ]
  },
  {
   "cell_type": "code",
   "execution_count": 17,
   "metadata": {},
   "outputs": [
    {
     "name": "stderr",
     "output_type": "stream",
     "text": [
      "100%|██████████| 404290/404290 [01:37<00:00, 4145.53it/s]\n"
     ]
    }
   ],
   "source": [
    "\n",
    "from bs4 import BeautifulSoup\n",
    "from tqdm import tqdm\n",
    "preprocessed_ques2 = []\n",
    "# tqdm is for printing the status bar\n",
    "for sentance in tqdm(df1[\"question2\"].values):\n",
    "    sentance = str(sentance).lower()\n",
    "    sentance = re.sub(r\"http\\S+\", \"\", sentance)\n",
    "    sentance = BeautifulSoup(sentance, 'lxml').get_text()\n",
    "    sentance = decontracted(sentance)\n",
    "    sentance = re.sub(\"\\S*\\d\\S*\", \"\", sentance).strip()\n",
    "    sentance = re.sub('[^A-Za-z]+', ' ', sentance)\n",
    "    \n",
    "    sentance = re.sub(r\"([0-9]+)000000\", r\"\\1m\", sentance)\n",
    "    sentance = re.sub(r\"([0-9]+)000\", r\"\\1k\", sentance)\n",
    "    # https://gist.github.com/sebleier/554280\n",
    "    sentance = ' '.join(e.lower() for e in sentance.split() if e.lower() not in stopwords)\n",
    "    preprocessed_ques2.append(sentance.strip())"
   ]
  },
  {
   "cell_type": "code",
   "execution_count": 18,
   "metadata": {},
   "outputs": [
    {
     "data": {
      "text/html": [
       "<div>\n",
       "<style scoped>\n",
       "    .dataframe tbody tr th:only-of-type {\n",
       "        vertical-align: middle;\n",
       "    }\n",
       "\n",
       "    .dataframe tbody tr th {\n",
       "        vertical-align: top;\n",
       "    }\n",
       "\n",
       "    .dataframe thead th {\n",
       "        text-align: right;\n",
       "    }\n",
       "</style>\n",
       "<table border=\"1\" class=\"dataframe\">\n",
       "  <thead>\n",
       "    <tr style=\"text-align: right;\">\n",
       "      <th></th>\n",
       "      <th>id</th>\n",
       "      <th>question1</th>\n",
       "      <th>question2</th>\n",
       "      <th>is_duplicate</th>\n",
       "      <th>cwc_min</th>\n",
       "      <th>cwc_max</th>\n",
       "      <th>csc_min</th>\n",
       "      <th>csc_max</th>\n",
       "      <th>ctc_min</th>\n",
       "      <th>ctc_max</th>\n",
       "      <th>...</th>\n",
       "      <th>q2len</th>\n",
       "      <th>q1_n_words</th>\n",
       "      <th>q2_n_words</th>\n",
       "      <th>word_Common</th>\n",
       "      <th>word_Total</th>\n",
       "      <th>word_share</th>\n",
       "      <th>freq_q1+q2</th>\n",
       "      <th>freq_q1-q2</th>\n",
       "      <th>preprocessed_q1</th>\n",
       "      <th>preprocessed_q2</th>\n",
       "    </tr>\n",
       "  </thead>\n",
       "  <tbody>\n",
       "    <tr>\n",
       "      <th>0</th>\n",
       "      <td>0</td>\n",
       "      <td>what is the step by step guide to invest in sh...</td>\n",
       "      <td>what is the step by step guide to invest in sh...</td>\n",
       "      <td>0</td>\n",
       "      <td>0.999980</td>\n",
       "      <td>0.833319</td>\n",
       "      <td>0.999983</td>\n",
       "      <td>0.999983</td>\n",
       "      <td>0.916659</td>\n",
       "      <td>0.785709</td>\n",
       "      <td>...</td>\n",
       "      <td>57</td>\n",
       "      <td>14</td>\n",
       "      <td>12</td>\n",
       "      <td>10.0</td>\n",
       "      <td>23.0</td>\n",
       "      <td>0.434783</td>\n",
       "      <td>2</td>\n",
       "      <td>0</td>\n",
       "      <td>step step guide invest share market india</td>\n",
       "      <td>step step guide invest share market</td>\n",
       "    </tr>\n",
       "    <tr>\n",
       "      <th>1</th>\n",
       "      <td>1</td>\n",
       "      <td>what is the story of kohinoor  koh i noor  dia...</td>\n",
       "      <td>what would happen if the indian government sto...</td>\n",
       "      <td>0</td>\n",
       "      <td>0.799984</td>\n",
       "      <td>0.399996</td>\n",
       "      <td>0.749981</td>\n",
       "      <td>0.599988</td>\n",
       "      <td>0.699993</td>\n",
       "      <td>0.466664</td>\n",
       "      <td>...</td>\n",
       "      <td>88</td>\n",
       "      <td>8</td>\n",
       "      <td>13</td>\n",
       "      <td>4.0</td>\n",
       "      <td>20.0</td>\n",
       "      <td>0.200000</td>\n",
       "      <td>5</td>\n",
       "      <td>3</td>\n",
       "      <td>story kohinoor koh noor diamond</td>\n",
       "      <td>would happen indian government stole kohinoor ...</td>\n",
       "    </tr>\n",
       "    <tr>\n",
       "      <th>2</th>\n",
       "      <td>2</td>\n",
       "      <td>how can i increase the speed of my internet co...</td>\n",
       "      <td>how can internet speed be increased by hacking...</td>\n",
       "      <td>0</td>\n",
       "      <td>0.399992</td>\n",
       "      <td>0.333328</td>\n",
       "      <td>0.399992</td>\n",
       "      <td>0.249997</td>\n",
       "      <td>0.399996</td>\n",
       "      <td>0.285712</td>\n",
       "      <td>...</td>\n",
       "      <td>59</td>\n",
       "      <td>14</td>\n",
       "      <td>10</td>\n",
       "      <td>4.0</td>\n",
       "      <td>24.0</td>\n",
       "      <td>0.166667</td>\n",
       "      <td>2</td>\n",
       "      <td>0</td>\n",
       "      <td>increase speed internet connection using vpn</td>\n",
       "      <td>internet speed increased hacking dns</td>\n",
       "    </tr>\n",
       "  </tbody>\n",
       "</table>\n",
       "<p>3 rows × 32 columns</p>\n",
       "</div>"
      ],
      "text/plain": [
       "   id                                          question1  \\\n",
       "0   0  what is the step by step guide to invest in sh...   \n",
       "1   1  what is the story of kohinoor  koh i noor  dia...   \n",
       "2   2  how can i increase the speed of my internet co...   \n",
       "\n",
       "                                           question2  is_duplicate   cwc_min  \\\n",
       "0  what is the step by step guide to invest in sh...             0  0.999980   \n",
       "1  what would happen if the indian government sto...             0  0.799984   \n",
       "2  how can internet speed be increased by hacking...             0  0.399992   \n",
       "\n",
       "    cwc_max   csc_min   csc_max   ctc_min   ctc_max  ...  q2len  q1_n_words  \\\n",
       "0  0.833319  0.999983  0.999983  0.916659  0.785709  ...     57          14   \n",
       "1  0.399996  0.749981  0.599988  0.699993  0.466664  ...     88           8   \n",
       "2  0.333328  0.399992  0.249997  0.399996  0.285712  ...     59          14   \n",
       "\n",
       "   q2_n_words  word_Common  word_Total  word_share  freq_q1+q2  freq_q1-q2  \\\n",
       "0          12         10.0        23.0    0.434783           2           0   \n",
       "1          13          4.0        20.0    0.200000           5           3   \n",
       "2          10          4.0        24.0    0.166667           2           0   \n",
       "\n",
       "                                preprocessed_q1  \\\n",
       "0     step step guide invest share market india   \n",
       "1               story kohinoor koh noor diamond   \n",
       "2  increase speed internet connection using vpn   \n",
       "\n",
       "                                     preprocessed_q2  \n",
       "0                step step guide invest share market  \n",
       "1  would happen indian government stole kohinoor ...  \n",
       "2               internet speed increased hacking dns  \n",
       "\n",
       "[3 rows x 32 columns]"
      ]
     },
     "execution_count": 18,
     "metadata": {},
     "output_type": "execute_result"
    }
   ],
   "source": [
    "df1[\"preprocessed_q1\"] = preprocessed_ques1\n",
    "df1[\"preprocessed_q2\"] = preprocessed_ques2\n",
    "\n",
    "df1.head(3)"
   ]
  },
  {
   "cell_type": "markdown",
   "metadata": {},
   "source": [
    "# Train Test Split"
   ]
  },
  {
   "cell_type": "code",
   "execution_count": 19,
   "metadata": {},
   "outputs": [
    {
     "data": {
      "text/plain": [
       "(100001, 32)"
      ]
     },
     "execution_count": 19,
     "metadata": {},
     "output_type": "execute_result"
    }
   ],
   "source": [
    "# Take randomly 100K points\n",
    "\n",
    "df1 = df1.loc[0:100000]\n",
    "\n",
    "df1.shape"
   ]
  },
  {
   "cell_type": "code",
   "execution_count": 20,
   "metadata": {},
   "outputs": [
    {
     "data": {
      "text/html": [
       "<div>\n",
       "<style scoped>\n",
       "    .dataframe tbody tr th:only-of-type {\n",
       "        vertical-align: middle;\n",
       "    }\n",
       "\n",
       "    .dataframe tbody tr th {\n",
       "        vertical-align: top;\n",
       "    }\n",
       "\n",
       "    .dataframe thead th {\n",
       "        text-align: right;\n",
       "    }\n",
       "</style>\n",
       "<table border=\"1\" class=\"dataframe\">\n",
       "  <thead>\n",
       "    <tr style=\"text-align: right;\">\n",
       "      <th></th>\n",
       "      <th>id</th>\n",
       "      <th>question1</th>\n",
       "      <th>question2</th>\n",
       "      <th>is_duplicate</th>\n",
       "      <th>cwc_min</th>\n",
       "      <th>cwc_max</th>\n",
       "      <th>csc_min</th>\n",
       "      <th>csc_max</th>\n",
       "      <th>ctc_min</th>\n",
       "      <th>ctc_max</th>\n",
       "      <th>...</th>\n",
       "      <th>q2len</th>\n",
       "      <th>q1_n_words</th>\n",
       "      <th>q2_n_words</th>\n",
       "      <th>word_Common</th>\n",
       "      <th>word_Total</th>\n",
       "      <th>word_share</th>\n",
       "      <th>freq_q1+q2</th>\n",
       "      <th>freq_q1-q2</th>\n",
       "      <th>preprocessed_q1</th>\n",
       "      <th>preprocessed_q2</th>\n",
       "    </tr>\n",
       "  </thead>\n",
       "  <tbody>\n",
       "    <tr>\n",
       "      <th>0</th>\n",
       "      <td>0</td>\n",
       "      <td>what is the step by step guide to invest in sh...</td>\n",
       "      <td>what is the step by step guide to invest in sh...</td>\n",
       "      <td>0</td>\n",
       "      <td>0.999980</td>\n",
       "      <td>0.833319</td>\n",
       "      <td>0.999983</td>\n",
       "      <td>0.999983</td>\n",
       "      <td>0.916659</td>\n",
       "      <td>0.785709</td>\n",
       "      <td>...</td>\n",
       "      <td>57</td>\n",
       "      <td>14</td>\n",
       "      <td>12</td>\n",
       "      <td>10.0</td>\n",
       "      <td>23.0</td>\n",
       "      <td>0.434783</td>\n",
       "      <td>2</td>\n",
       "      <td>0</td>\n",
       "      <td>step step guide invest share market india</td>\n",
       "      <td>step step guide invest share market</td>\n",
       "    </tr>\n",
       "    <tr>\n",
       "      <th>1</th>\n",
       "      <td>1</td>\n",
       "      <td>what is the story of kohinoor  koh i noor  dia...</td>\n",
       "      <td>what would happen if the indian government sto...</td>\n",
       "      <td>0</td>\n",
       "      <td>0.799984</td>\n",
       "      <td>0.399996</td>\n",
       "      <td>0.749981</td>\n",
       "      <td>0.599988</td>\n",
       "      <td>0.699993</td>\n",
       "      <td>0.466664</td>\n",
       "      <td>...</td>\n",
       "      <td>88</td>\n",
       "      <td>8</td>\n",
       "      <td>13</td>\n",
       "      <td>4.0</td>\n",
       "      <td>20.0</td>\n",
       "      <td>0.200000</td>\n",
       "      <td>5</td>\n",
       "      <td>3</td>\n",
       "      <td>story kohinoor koh noor diamond</td>\n",
       "      <td>would happen indian government stole kohinoor ...</td>\n",
       "    </tr>\n",
       "    <tr>\n",
       "      <th>2</th>\n",
       "      <td>2</td>\n",
       "      <td>how can i increase the speed of my internet co...</td>\n",
       "      <td>how can internet speed be increased by hacking...</td>\n",
       "      <td>0</td>\n",
       "      <td>0.399992</td>\n",
       "      <td>0.333328</td>\n",
       "      <td>0.399992</td>\n",
       "      <td>0.249997</td>\n",
       "      <td>0.399996</td>\n",
       "      <td>0.285712</td>\n",
       "      <td>...</td>\n",
       "      <td>59</td>\n",
       "      <td>14</td>\n",
       "      <td>10</td>\n",
       "      <td>4.0</td>\n",
       "      <td>24.0</td>\n",
       "      <td>0.166667</td>\n",
       "      <td>2</td>\n",
       "      <td>0</td>\n",
       "      <td>increase speed internet connection using vpn</td>\n",
       "      <td>internet speed increased hacking dns</td>\n",
       "    </tr>\n",
       "  </tbody>\n",
       "</table>\n",
       "<p>3 rows × 32 columns</p>\n",
       "</div>"
      ],
      "text/plain": [
       "   id                                          question1  \\\n",
       "0   0  what is the step by step guide to invest in sh...   \n",
       "1   1  what is the story of kohinoor  koh i noor  dia...   \n",
       "2   2  how can i increase the speed of my internet co...   \n",
       "\n",
       "                                           question2  is_duplicate   cwc_min  \\\n",
       "0  what is the step by step guide to invest in sh...             0  0.999980   \n",
       "1  what would happen if the indian government sto...             0  0.799984   \n",
       "2  how can internet speed be increased by hacking...             0  0.399992   \n",
       "\n",
       "    cwc_max   csc_min   csc_max   ctc_min   ctc_max  ...  q2len  q1_n_words  \\\n",
       "0  0.833319  0.999983  0.999983  0.916659  0.785709  ...     57          14   \n",
       "1  0.399996  0.749981  0.599988  0.699993  0.466664  ...     88           8   \n",
       "2  0.333328  0.399992  0.249997  0.399996  0.285712  ...     59          14   \n",
       "\n",
       "   q2_n_words  word_Common  word_Total  word_share  freq_q1+q2  freq_q1-q2  \\\n",
       "0          12         10.0        23.0    0.434783           2           0   \n",
       "1          13          4.0        20.0    0.200000           5           3   \n",
       "2          10          4.0        24.0    0.166667           2           0   \n",
       "\n",
       "                                preprocessed_q1  \\\n",
       "0     step step guide invest share market india   \n",
       "1               story kohinoor koh noor diamond   \n",
       "2  increase speed internet connection using vpn   \n",
       "\n",
       "                                     preprocessed_q2  \n",
       "0                step step guide invest share market  \n",
       "1  would happen indian government stole kohinoor ...  \n",
       "2               internet speed increased hacking dns  \n",
       "\n",
       "[3 rows x 32 columns]"
      ]
     },
     "execution_count": 20,
     "metadata": {},
     "output_type": "execute_result"
    }
   ],
   "source": [
    "df1.head(3)"
   ]
  },
  {
   "cell_type": "code",
   "execution_count": 21,
   "metadata": {},
   "outputs": [
    {
     "data": {
      "text/html": [
       "<div>\n",
       "<style scoped>\n",
       "    .dataframe tbody tr th:only-of-type {\n",
       "        vertical-align: middle;\n",
       "    }\n",
       "\n",
       "    .dataframe tbody tr th {\n",
       "        vertical-align: top;\n",
       "    }\n",
       "\n",
       "    .dataframe thead th {\n",
       "        text-align: right;\n",
       "    }\n",
       "</style>\n",
       "<table border=\"1\" class=\"dataframe\">\n",
       "  <thead>\n",
       "    <tr style=\"text-align: right;\">\n",
       "      <th></th>\n",
       "      <th>id</th>\n",
       "      <th>cwc_min</th>\n",
       "      <th>cwc_max</th>\n",
       "      <th>csc_min</th>\n",
       "      <th>csc_max</th>\n",
       "      <th>ctc_min</th>\n",
       "      <th>ctc_max</th>\n",
       "      <th>last_word_eq</th>\n",
       "      <th>first_word_eq</th>\n",
       "      <th>abs_len_diff</th>\n",
       "      <th>...</th>\n",
       "      <th>q2len</th>\n",
       "      <th>q1_n_words</th>\n",
       "      <th>q2_n_words</th>\n",
       "      <th>word_Common</th>\n",
       "      <th>word_Total</th>\n",
       "      <th>word_share</th>\n",
       "      <th>freq_q1+q2</th>\n",
       "      <th>freq_q1-q2</th>\n",
       "      <th>preprocessed_q1</th>\n",
       "      <th>preprocessed_q2</th>\n",
       "    </tr>\n",
       "  </thead>\n",
       "  <tbody>\n",
       "    <tr>\n",
       "      <th>1</th>\n",
       "      <td>1</td>\n",
       "      <td>0.799984</td>\n",
       "      <td>0.399996</td>\n",
       "      <td>0.749981</td>\n",
       "      <td>0.599988</td>\n",
       "      <td>0.699993</td>\n",
       "      <td>0.466664</td>\n",
       "      <td>0.0</td>\n",
       "      <td>1.0</td>\n",
       "      <td>5.0</td>\n",
       "      <td>...</td>\n",
       "      <td>88</td>\n",
       "      <td>8</td>\n",
       "      <td>13</td>\n",
       "      <td>4.0</td>\n",
       "      <td>20.0</td>\n",
       "      <td>0.200000</td>\n",
       "      <td>5</td>\n",
       "      <td>3</td>\n",
       "      <td>story kohinoor koh noor diamond</td>\n",
       "      <td>would happen indian government stole kohinoor ...</td>\n",
       "    </tr>\n",
       "    <tr>\n",
       "      <th>2</th>\n",
       "      <td>2</td>\n",
       "      <td>0.399992</td>\n",
       "      <td>0.333328</td>\n",
       "      <td>0.399992</td>\n",
       "      <td>0.249997</td>\n",
       "      <td>0.399996</td>\n",
       "      <td>0.285712</td>\n",
       "      <td>0.0</td>\n",
       "      <td>1.0</td>\n",
       "      <td>4.0</td>\n",
       "      <td>...</td>\n",
       "      <td>59</td>\n",
       "      <td>14</td>\n",
       "      <td>10</td>\n",
       "      <td>4.0</td>\n",
       "      <td>24.0</td>\n",
       "      <td>0.166667</td>\n",
       "      <td>2</td>\n",
       "      <td>0</td>\n",
       "      <td>increase speed internet connection using vpn</td>\n",
       "      <td>internet speed increased hacking dns</td>\n",
       "    </tr>\n",
       "    <tr>\n",
       "      <th>3</th>\n",
       "      <td>3</td>\n",
       "      <td>0.000000</td>\n",
       "      <td>0.000000</td>\n",
       "      <td>0.000000</td>\n",
       "      <td>0.000000</td>\n",
       "      <td>0.000000</td>\n",
       "      <td>0.000000</td>\n",
       "      <td>0.0</td>\n",
       "      <td>0.0</td>\n",
       "      <td>2.0</td>\n",
       "      <td>...</td>\n",
       "      <td>65</td>\n",
       "      <td>11</td>\n",
       "      <td>9</td>\n",
       "      <td>0.0</td>\n",
       "      <td>19.0</td>\n",
       "      <td>0.000000</td>\n",
       "      <td>2</td>\n",
       "      <td>0</td>\n",
       "      <td>mentally lonely solve</td>\n",
       "      <td>find remainder math math divided</td>\n",
       "    </tr>\n",
       "  </tbody>\n",
       "</table>\n",
       "<p>3 rows × 29 columns</p>\n",
       "</div>"
      ],
      "text/plain": [
       "   id   cwc_min   cwc_max   csc_min   csc_max   ctc_min   ctc_max  \\\n",
       "1   1  0.799984  0.399996  0.749981  0.599988  0.699993  0.466664   \n",
       "2   2  0.399992  0.333328  0.399992  0.249997  0.399996  0.285712   \n",
       "3   3  0.000000  0.000000  0.000000  0.000000  0.000000  0.000000   \n",
       "\n",
       "   last_word_eq  first_word_eq  abs_len_diff  ...  q2len  q1_n_words  \\\n",
       "1           0.0            1.0           5.0  ...     88           8   \n",
       "2           0.0            1.0           4.0  ...     59          14   \n",
       "3           0.0            0.0           2.0  ...     65          11   \n",
       "\n",
       "   q2_n_words  word_Common  word_Total  word_share  freq_q1+q2  freq_q1-q2  \\\n",
       "1          13          4.0        20.0    0.200000           5           3   \n",
       "2          10          4.0        24.0    0.166667           2           0   \n",
       "3           9          0.0        19.0    0.000000           2           0   \n",
       "\n",
       "                                preprocessed_q1  \\\n",
       "1               story kohinoor koh noor diamond   \n",
       "2  increase speed internet connection using vpn   \n",
       "3                         mentally lonely solve   \n",
       "\n",
       "                                     preprocessed_q2  \n",
       "1  would happen indian government stole kohinoor ...  \n",
       "2               internet speed increased hacking dns  \n",
       "3                   find remainder math math divided  \n",
       "\n",
       "[3 rows x 29 columns]"
      ]
     },
     "execution_count": 21,
     "metadata": {},
     "output_type": "execute_result"
    }
   ],
   "source": [
    "from sklearn.model_selection import train_test_split\n",
    "df1.drop(df1.index[0],inplace = True)\n",
    "\n",
    "y = df1[\"is_duplicate\"]\n",
    "df1.drop(['is_duplicate',\"question1\",\"question2\"], axis=1, inplace=True)\n",
    "df1.reset_index()\n",
    "x = df1\n",
    "\n",
    "x.head(3)"
   ]
  },
  {
   "cell_type": "code",
   "execution_count": 22,
   "metadata": {},
   "outputs": [
    {
     "data": {
      "text/plain": [
       "(100000, 29)"
      ]
     },
     "execution_count": 22,
     "metadata": {},
     "output_type": "execute_result"
    }
   ],
   "source": [
    "x.shape"
   ]
  },
  {
   "cell_type": "code",
   "execution_count": 23,
   "metadata": {},
   "outputs": [],
   "source": [
    "X_train,X_test, y_train, y_test = train_test_split(x, y, stratify=y, test_size=0.3)\n",
    "\n"
   ]
  },
  {
   "cell_type": "code",
   "execution_count": 24,
   "metadata": {},
   "outputs": [
    {
     "name": "stdout",
     "output_type": "stream",
     "text": [
      "Number of data points in train data : (70000, 29) (70000,)\n",
      "Number of data points in test data : (30000, 29) (30000,)\n"
     ]
    }
   ],
   "source": [
    "print(\"Number of data points in train data :\",X_train.shape,y_train.shape)\n",
    "print(\"Number of data points in test data :\",X_test.shape,y_test.shape)"
   ]
  },
  {
   "cell_type": "markdown",
   "metadata": {},
   "source": [
    "# Tf-IDf on ques1 & ques 2"
   ]
  },
  {
   "cell_type": "code",
   "execution_count": 25,
   "metadata": {},
   "outputs": [
    {
     "name": "stdout",
     "output_type": "stream",
     "text": [
      "Shape of matrix after one hot encodig  (70000, 221504)\n",
      "Shape of matrix after one hot encodig  (30000, 221504)\n"
     ]
    }
   ],
   "source": [
    "# On Clean Essay\n",
    "\n",
    "from sklearn.feature_extraction.text import TfidfVectorizer\n",
    "vectorizer1 = TfidfVectorizer(ngram_range = (1,2))\n",
    "preprocessed_ques1_tfidf_train = vectorizer1.fit_transform(X_train['preprocessed_q1'])\n",
    "print(\"Shape of matrix after one hot encodig \",preprocessed_ques1_tfidf_train.shape)\n",
    "\n",
    "preprocessed_ques1_tfidf_test = vectorizer1.transform(X_test['preprocessed_q1'])\n",
    "print(\"Shape of matrix after one hot encodig \",preprocessed_ques1_tfidf_test.shape)"
   ]
  },
  {
   "cell_type": "code",
   "execution_count": 26,
   "metadata": {},
   "outputs": [
    {
     "name": "stdout",
     "output_type": "stream",
     "text": [
      "Shape of matrix after one hot encodig  (70000, 218881)\n",
      "Shape of matrix after one hot encodig  (30000, 218881)\n"
     ]
    }
   ],
   "source": [
    "# On Clean_title \n",
    "\n",
    "vectorizer2 = TfidfVectorizer(ngram_range = (1,2))\n",
    "preprocessed_ques2_tfidf_train = vectorizer2.fit_transform(X_train['preprocessed_q2'])\n",
    "print(\"Shape of matrix after one hot encodig \",preprocessed_ques2_tfidf_train.shape)\n",
    "\n",
    "preprocessed_ques2_tfidf_test = vectorizer2.transform(X_test['preprocessed_q2'])\n",
    "print(\"Shape of matrix after one hot encodig \",preprocessed_ques2_tfidf_test.shape)"
   ]
  },
  {
   "cell_type": "markdown",
   "metadata": {},
   "source": [
    "# Take all features together for train our model"
   ]
  },
  {
   "cell_type": "code",
   "execution_count": 27,
   "metadata": {},
   "outputs": [
    {
     "name": "stdout",
     "output_type": "stream",
     "text": [
      "(70000, 26)\n"
     ]
    },
    {
     "data": {
      "text/html": [
       "<div>\n",
       "<style scoped>\n",
       "    .dataframe tbody tr th:only-of-type {\n",
       "        vertical-align: middle;\n",
       "    }\n",
       "\n",
       "    .dataframe tbody tr th {\n",
       "        vertical-align: top;\n",
       "    }\n",
       "\n",
       "    .dataframe thead th {\n",
       "        text-align: right;\n",
       "    }\n",
       "</style>\n",
       "<table border=\"1\" class=\"dataframe\">\n",
       "  <thead>\n",
       "    <tr style=\"text-align: right;\">\n",
       "      <th></th>\n",
       "      <th>cwc_min</th>\n",
       "      <th>cwc_max</th>\n",
       "      <th>csc_min</th>\n",
       "      <th>csc_max</th>\n",
       "      <th>ctc_min</th>\n",
       "      <th>ctc_max</th>\n",
       "      <th>last_word_eq</th>\n",
       "      <th>first_word_eq</th>\n",
       "      <th>abs_len_diff</th>\n",
       "      <th>mean_len</th>\n",
       "      <th>...</th>\n",
       "      <th>freq_qid2</th>\n",
       "      <th>q1len</th>\n",
       "      <th>q2len</th>\n",
       "      <th>q1_n_words</th>\n",
       "      <th>q2_n_words</th>\n",
       "      <th>word_Common</th>\n",
       "      <th>word_Total</th>\n",
       "      <th>word_share</th>\n",
       "      <th>freq_q1+q2</th>\n",
       "      <th>freq_q1-q2</th>\n",
       "    </tr>\n",
       "  </thead>\n",
       "  <tbody>\n",
       "    <tr>\n",
       "      <th>70781</th>\n",
       "      <td>0.749981</td>\n",
       "      <td>0.499992</td>\n",
       "      <td>0.999967</td>\n",
       "      <td>0.749981</td>\n",
       "      <td>0.749991</td>\n",
       "      <td>0.666659</td>\n",
       "      <td>1.0</td>\n",
       "      <td>1.0</td>\n",
       "      <td>1.0</td>\n",
       "      <td>8.5</td>\n",
       "      <td>...</td>\n",
       "      <td>1</td>\n",
       "      <td>56</td>\n",
       "      <td>54</td>\n",
       "      <td>7</td>\n",
       "      <td>8</td>\n",
       "      <td>5.0</td>\n",
       "      <td>15.0</td>\n",
       "      <td>0.333333</td>\n",
       "      <td>2</td>\n",
       "      <td>0</td>\n",
       "    </tr>\n",
       "    <tr>\n",
       "      <th>4508</th>\n",
       "      <td>0.444440</td>\n",
       "      <td>0.444440</td>\n",
       "      <td>0.374995</td>\n",
       "      <td>0.299997</td>\n",
       "      <td>0.388887</td>\n",
       "      <td>0.368419</td>\n",
       "      <td>0.0</td>\n",
       "      <td>0.0</td>\n",
       "      <td>1.0</td>\n",
       "      <td>18.5</td>\n",
       "      <td>...</td>\n",
       "      <td>1</td>\n",
       "      <td>103</td>\n",
       "      <td>106</td>\n",
       "      <td>19</td>\n",
       "      <td>18</td>\n",
       "      <td>6.0</td>\n",
       "      <td>36.0</td>\n",
       "      <td>0.166667</td>\n",
       "      <td>4</td>\n",
       "      <td>2</td>\n",
       "    </tr>\n",
       "  </tbody>\n",
       "</table>\n",
       "<p>2 rows × 26 columns</p>\n",
       "</div>"
      ],
      "text/plain": [
       "        cwc_min   cwc_max   csc_min   csc_max   ctc_min   ctc_max  \\\n",
       "70781  0.749981  0.499992  0.999967  0.749981  0.749991  0.666659   \n",
       "4508   0.444440  0.444440  0.374995  0.299997  0.388887  0.368419   \n",
       "\n",
       "       last_word_eq  first_word_eq  abs_len_diff  mean_len  ...  freq_qid2  \\\n",
       "70781           1.0            1.0           1.0       8.5  ...          1   \n",
       "4508            0.0            0.0           1.0      18.5  ...          1   \n",
       "\n",
       "       q1len  q2len  q1_n_words  q2_n_words  word_Common  word_Total  \\\n",
       "70781     56     54           7           8          5.0        15.0   \n",
       "4508     103    106          19          18          6.0        36.0   \n",
       "\n",
       "       word_share  freq_q1+q2  freq_q1-q2  \n",
       "70781    0.333333           2           0  \n",
       "4508     0.166667           4           2  \n",
       "\n",
       "[2 rows x 26 columns]"
      ]
     },
     "execution_count": 27,
     "metadata": {},
     "output_type": "execute_result"
    }
   ],
   "source": [
    "# Remove undesried columns\n",
    "\n",
    "X_train_idf = X_train.drop(['id','preprocessed_q1','preprocessed_q2'],axis=1,inplace = False)\n",
    "\n",
    "print(X_train_idf.shape)\n",
    "\n",
    "X_train_idf.head(2)"
   ]
  },
  {
   "cell_type": "code",
   "execution_count": 28,
   "metadata": {},
   "outputs": [
    {
     "name": "stdout",
     "output_type": "stream",
     "text": [
      "(30000, 26)\n"
     ]
    },
    {
     "data": {
      "text/html": [
       "<div>\n",
       "<style scoped>\n",
       "    .dataframe tbody tr th:only-of-type {\n",
       "        vertical-align: middle;\n",
       "    }\n",
       "\n",
       "    .dataframe tbody tr th {\n",
       "        vertical-align: top;\n",
       "    }\n",
       "\n",
       "    .dataframe thead th {\n",
       "        text-align: right;\n",
       "    }\n",
       "</style>\n",
       "<table border=\"1\" class=\"dataframe\">\n",
       "  <thead>\n",
       "    <tr style=\"text-align: right;\">\n",
       "      <th></th>\n",
       "      <th>cwc_min</th>\n",
       "      <th>cwc_max</th>\n",
       "      <th>csc_min</th>\n",
       "      <th>csc_max</th>\n",
       "      <th>ctc_min</th>\n",
       "      <th>ctc_max</th>\n",
       "      <th>last_word_eq</th>\n",
       "      <th>first_word_eq</th>\n",
       "      <th>abs_len_diff</th>\n",
       "      <th>mean_len</th>\n",
       "      <th>...</th>\n",
       "      <th>freq_qid2</th>\n",
       "      <th>q1len</th>\n",
       "      <th>q2len</th>\n",
       "      <th>q1_n_words</th>\n",
       "      <th>q2_n_words</th>\n",
       "      <th>word_Common</th>\n",
       "      <th>word_Total</th>\n",
       "      <th>word_share</th>\n",
       "      <th>freq_q1+q2</th>\n",
       "      <th>freq_q1-q2</th>\n",
       "    </tr>\n",
       "  </thead>\n",
       "  <tbody>\n",
       "    <tr>\n",
       "      <th>32301</th>\n",
       "      <td>0.999975</td>\n",
       "      <td>0.799984</td>\n",
       "      <td>0.499988</td>\n",
       "      <td>0.499988</td>\n",
       "      <td>0.666659</td>\n",
       "      <td>0.666659</td>\n",
       "      <td>0.0</td>\n",
       "      <td>1.0</td>\n",
       "      <td>0.0</td>\n",
       "      <td>9.0</td>\n",
       "      <td>...</td>\n",
       "      <td>9</td>\n",
       "      <td>46</td>\n",
       "      <td>46</td>\n",
       "      <td>9</td>\n",
       "      <td>9</td>\n",
       "      <td>6.0</td>\n",
       "      <td>18.0</td>\n",
       "      <td>0.333333</td>\n",
       "      <td>10</td>\n",
       "      <td>8</td>\n",
       "    </tr>\n",
       "    <tr>\n",
       "      <th>8874</th>\n",
       "      <td>0.399992</td>\n",
       "      <td>0.249997</td>\n",
       "      <td>0.399992</td>\n",
       "      <td>0.249997</td>\n",
       "      <td>0.307690</td>\n",
       "      <td>0.285712</td>\n",
       "      <td>1.0</td>\n",
       "      <td>0.0</td>\n",
       "      <td>1.0</td>\n",
       "      <td>13.5</td>\n",
       "      <td>...</td>\n",
       "      <td>1</td>\n",
       "      <td>73</td>\n",
       "      <td>63</td>\n",
       "      <td>14</td>\n",
       "      <td>13</td>\n",
       "      <td>4.0</td>\n",
       "      <td>26.0</td>\n",
       "      <td>0.153846</td>\n",
       "      <td>2</td>\n",
       "      <td>0</td>\n",
       "    </tr>\n",
       "  </tbody>\n",
       "</table>\n",
       "<p>2 rows × 26 columns</p>\n",
       "</div>"
      ],
      "text/plain": [
       "        cwc_min   cwc_max   csc_min   csc_max   ctc_min   ctc_max  \\\n",
       "32301  0.999975  0.799984  0.499988  0.499988  0.666659  0.666659   \n",
       "8874   0.399992  0.249997  0.399992  0.249997  0.307690  0.285712   \n",
       "\n",
       "       last_word_eq  first_word_eq  abs_len_diff  mean_len  ...  freq_qid2  \\\n",
       "32301           0.0            1.0           0.0       9.0  ...          9   \n",
       "8874            1.0            0.0           1.0      13.5  ...          1   \n",
       "\n",
       "       q1len  q2len  q1_n_words  q2_n_words  word_Common  word_Total  \\\n",
       "32301     46     46           9           9          6.0        18.0   \n",
       "8874      73     63          14          13          4.0        26.0   \n",
       "\n",
       "       word_share  freq_q1+q2  freq_q1-q2  \n",
       "32301    0.333333          10           8  \n",
       "8874     0.153846           2           0  \n",
       "\n",
       "[2 rows x 26 columns]"
      ]
     },
     "execution_count": 28,
     "metadata": {},
     "output_type": "execute_result"
    }
   ],
   "source": [
    "# Remove undesried columns\n",
    "\n",
    "X_test_idf = X_test.drop(['id','preprocessed_q1','preprocessed_q2'],axis=1,inplace = False)\n",
    "\n",
    "print(X_test_idf.shape)\n",
    "\n",
    "X_test_idf.head(2)"
   ]
  },
  {
   "cell_type": "code",
   "execution_count": 29,
   "metadata": {},
   "outputs": [
    {
     "name": "stdout",
     "output_type": "stream",
     "text": [
      "Number of data points in train data : (70000, 440411)\n",
      "Number of data points in test data : (30000, 440411)\n"
     ]
    }
   ],
   "source": [
    "# merge tfidf vectors of ques1 , ques2 & and all token features\n",
    "\n",
    "from scipy.sparse import hstack\n",
    "\n",
    "X_train_tfidf = hstack((preprocessed_ques1_tfidf_train,preprocessed_ques2_tfidf_train,X_train_idf.values))\n",
    "X_test_tfidf = hstack((preprocessed_ques1_tfidf_test,preprocessed_ques2_tfidf_test,X_test_idf.values))\n",
    "\n",
    "print(\"Number of data points in train data :\",X_train_tfidf.shape)\n",
    "print(\"Number of data points in test data :\",X_test_tfidf.shape)"
   ]
  },
  {
   "cell_type": "markdown",
   "metadata": {},
   "source": [
    "# Train Model Logistic Regression & Linear SVM on TF-IDF VEC\n"
   ]
  },
  {
   "cell_type": "markdown",
   "metadata": {},
   "source": [
    "# 1. Building a random model (Finding worst-case log-loss) "
   ]
  },
  {
   "cell_type": "code",
   "execution_count": 30,
   "metadata": {},
   "outputs": [
    {
     "name": "stdout",
     "output_type": "stream",
     "text": [
      "---------- Distribution of output variable in train data ----------\n",
      "Class 0:  0.6274571428571428 Class 1:  0.3725428571428571\n",
      "---------- Distribution of output variable in test data ----------\n",
      "Class 0:  0.3725333333333333 Class 1:  0.3725333333333333\n"
     ]
    }
   ],
   "source": [
    "from collections import Counter\n",
    "\n",
    "print(\"-\"*10, \"Distribution of output variable in train data\", \"-\"*10)\n",
    "train_distr = Counter(y_train)\n",
    "train_len = len(y_train)\n",
    "print(\"Class 0: \",int(train_distr[0])/train_len,\"Class 1: \", int(train_distr[1])/train_len)\n",
    "print(\"-\"*10, \"Distribution of output variable in test data\", \"-\"*10)\n",
    "test_distr = Counter(y_test)\n",
    "test_len = len(y_test)\n",
    "print(\"Class 0: \",int(test_distr[1])/test_len, \"Class 1: \",int(test_distr[1])/test_len)"
   ]
  },
  {
   "cell_type": "code",
   "execution_count": 31,
   "metadata": {},
   "outputs": [],
   "source": [
    "# This function plots the confusion matrices given y_i, y_i_hat.\n",
    "def plot_confusion_matrix(test_y, predict_y):\n",
    "    C = confusion_matrix(test_y, predict_y)\n",
    "    # C = 9,9 matrix, each cell (i,j) represents number of points of class i are predicted class j\n",
    "    \n",
    "    A =(((C.T)/(C.sum(axis=1))).T)\n",
    "    #divid each element of the confusion matrix with the sum of elements in that column\n",
    "    \n",
    "    # C = [[1, 2],\n",
    "    #     [3, 4]]\n",
    "    # C.T = [[1, 3],\n",
    "    #        [2, 4]]\n",
    "    # C.sum(axis = 1)  axis=0 corresonds to columns and axis=1 corresponds to rows in two diamensional array\n",
    "    # C.sum(axix =1) = [[3, 7]]\n",
    "    # ((C.T)/(C.sum(axis=1))) = [[1/3, 3/7]\n",
    "    #                           [2/3, 4/7]]\n",
    "\n",
    "    # ((C.T)/(C.sum(axis=1))).T = [[1/3, 2/3]\n",
    "    #                           [3/7, 4/7]]\n",
    "    # sum of row elements = 1\n",
    "    \n",
    "    B =(C/C.sum(axis=0))\n",
    "    #divid each element of the confusion matrix with the sum of elements in that row\n",
    "    # C = [[1, 2],\n",
    "    #     [3, 4]]\n",
    "    # C.sum(axis = 0)  axis=0 corresonds to columns and axis=1 corresponds to rows in two diamensional array\n",
    "    # C.sum(axix =0) = [[4, 6]]\n",
    "    # (C/C.sum(axis=0)) = [[1/4, 2/6],\n",
    "    #                      [3/4, 4/6]] \n",
    "    plt.figure(figsize=(20,4))\n",
    "    \n",
    "    labels = [1,2]\n",
    "    # representing A in heatmap format\n",
    "    cmap=sns.light_palette(\"blue\")\n",
    "    plt.subplot(1, 3, 1)\n",
    "    sns.heatmap(C, annot=True, cmap=cmap, fmt=\".3f\", xticklabels=labels, yticklabels=labels)\n",
    "    plt.xlabel('Predicted Class')\n",
    "    plt.ylabel('Original Class')\n",
    "    plt.title(\"Confusion matrix\")\n",
    "    \n",
    "    plt.subplot(1, 3, 2)\n",
    "    sns.heatmap(B, annot=True, cmap=cmap, fmt=\".3f\", xticklabels=labels, yticklabels=labels)\n",
    "    plt.xlabel('Predicted Class')\n",
    "    plt.ylabel('Original Class')\n",
    "    plt.title(\"Precision matrix\")\n",
    "    \n",
    "    plt.subplot(1, 3, 3)\n",
    "    # representing B in heatmap format\n",
    "    sns.heatmap(A, annot=True, cmap=cmap, fmt=\".3f\", xticklabels=labels, yticklabels=labels)\n",
    "    plt.xlabel('Predicted Class')\n",
    "    plt.ylabel('Original Class')\n",
    "    plt.title(\"Recall matrix\")\n",
    "    \n",
    "    plt.show()"
   ]
  },
  {
   "cell_type": "code",
   "execution_count": 32,
   "metadata": {},
   "outputs": [
    {
     "name": "stdout",
     "output_type": "stream",
     "text": [
      "Log loss on Test Data using Random Model 0.8817246747390841\n"
     ]
    },
    {
     "data": {
      "image/png": "[encoded data removed]",
      "text/plain": [
       "<Figure size 1440x288 with 6 Axes>"
      ]
     },
     "metadata": {
      "needs_background": "light"
     },
     "output_type": "display_data"
    }
   ],
   "source": [
    "from sklearn.metrics import log_loss\n",
    "from sklearn.metrics import confusion_matrix\n",
    "import seaborn as sns\n",
    "\n",
    "# we need to generate 9 numbers and the sum of numbers should be 1\n",
    "# one solution is to genarate 9 numbers and divide each of the numbers by their sum\n",
    "# ref: https://stackoverflow.com/a/18662466/4084039\n",
    "# we create a output array that has exactly same size as the CV data\n",
    "predicted_y = np.zeros((test_len,2))\n",
    "for i in range(test_len):\n",
    "    rand_probs = np.random.rand(1,2)\n",
    "    predicted_y[i] = ((rand_probs/sum(sum(rand_probs)))[0])\n",
    "print(\"Log loss on Test Data using Random Model\",log_loss(y_test, predicted_y, eps=1e-15))\n",
    "\n",
    "predicted_y =np.argmax(predicted_y, axis=1)\n",
    "plot_confusion_matrix(y_test, predicted_y)"
   ]
  },
  {
   "cell_type": "markdown",
   "metadata": {},
   "source": [
    "# 2. Logistic Regression with hyperparameter tuning "
   ]
  },
  {
   "cell_type": "code",
   "execution_count": 33,
   "metadata": {},
   "outputs": [
    {
     "name": "stdout",
     "output_type": "stream",
     "text": [
      "For values of alpha =  1e-07 The log loss is: 0.5444536402770691\n",
      "For values of alpha =  1e-06 The log loss is: 0.45723470318226206\n",
      "For values of alpha =  1e-05 The log loss is: 0.45689784437174735\n",
      "For values of alpha =  0.0001 The log loss is: 0.4530547301601866\n",
      "For values of alpha =  0.001 The log loss is: 0.4544997760893704\n",
      "For values of alpha =  0.01 The log loss is: 0.4527832277742007\n",
      "For values of alpha =  0.1 The log loss is: 0.4640191185484633\n",
      "For values of alpha =  1 The log loss is: 0.4974880468195978\n",
      "For values of alpha =  10 The log loss is: 0.5487480575692426\n"
     ]
    },
    {
     "data": {
      "image/png": "[encoded data removed]",
      "text/plain": [
       "<Figure size 432x288 with 1 Axes>"
      ]
     },
     "metadata": {
      "needs_background": "light"
     },
     "output_type": "display_data"
    },
    {
     "name": "stdout",
     "output_type": "stream",
     "text": [
      "For values of best alpha =  0.01 The train log loss is: 0.4489321924305754\n",
      "For values of best alpha =  0.01 The test log loss is: 0.4527832277742007\n",
      "Total number of data points : 30000\n"
     ]
    },
    {
     "data": {
      "image/png": "[encoded data removed]",
      "text/plain": [
       "<Figure size 1440x288 with 6 Axes>"
      ]
     },
     "metadata": {
      "needs_background": "light"
     },
     "output_type": "display_data"
    }
   ],
   "source": [
    "from sklearn.linear_model import SGDClassifier\n",
    "from sklearn.calibration import CalibratedClassifierCV\n",
    "\n",
    "alpha = [10 ** x for x in range(-7, 2)] # hyperparam for SGD classifier.\n",
    "\n",
    "\n",
    "log_error_array=[]\n",
    "for i in alpha:\n",
    "    clf = SGDClassifier(alpha=i, penalty='l2', loss='log', random_state=21,n_jobs=6)\n",
    "    clf.fit(X_train_tfidf, y_train)\n",
    "    sig_clf = CalibratedClassifierCV(clf, method=\"sigmoid\",cv=10)\n",
    "    sig_clf.fit(X_train_tfidf, y_train)\n",
    "    predict_y = sig_clf.predict_proba(X_test_tfidf)\n",
    "    log_error_array.append(log_loss(y_test, predict_y, labels=clf.classes_, eps=1e-15))\n",
    "    print('For values of alpha = ', i, \"The log loss is:\",log_loss(y_test, predict_y, labels=clf.classes_, eps=1e-15))\n",
    "\n",
    "fig, ax = plt.subplots()\n",
    "ax.plot(alpha, log_error_array,c='g')\n",
    "for i, txt in enumerate(np.round(log_error_array,3)):\n",
    "    ax.annotate((alpha[i],np.round(txt,3)), (alpha[i],log_error_array[i]))\n",
    "plt.grid()\n",
    "plt.title(\"Cross Validation Error for each alpha\")\n",
    "plt.xlabel(\"Alpha i's\")\n",
    "plt.ylabel(\"Error measure\")\n",
    "plt.show()\n",
    "\n",
    "\n",
    "best_alpha = np.argmin(log_error_array)\n",
    "clf = SGDClassifier(alpha=alpha[best_alpha], penalty='l2', loss='log', random_state=21,n_jobs=6)\n",
    "clf.fit(X_train_tfidf, y_train)\n",
    "sig_clf = CalibratedClassifierCV(clf, method=\"sigmoid\",cv=10)\n",
    "sig_clf.fit(X_train_tfidf, y_train)\n",
    "\n",
    "predict_y = sig_clf.predict_proba(X_train_tfidf)\n",
    "print('For values of best alpha = ', alpha[best_alpha], \"The train log loss is:\",log_loss(y_train, predict_y, labels=clf.classes_, eps=1e-15))\n",
    "predict_y = sig_clf.predict_proba(X_test_tfidf)\n",
    "print('For values of best alpha = ', alpha[best_alpha], \"The test log loss is:\",log_loss(y_test, predict_y, labels=clf.classes_, eps=1e-15))\n",
    "predicted_y =np.argmax(predict_y,axis=1)\n",
    "print(\"Total number of data points :\", len(predicted_y))\n",
    "plot_confusion_matrix(y_test, predicted_y)"
   ]
  },
  {
   "cell_type": "markdown",
   "metadata": {},
   "source": [
    "# 3. Linear SVM with hyperparameter tuning"
   ]
  },
  {
   "cell_type": "code",
   "execution_count": 34,
   "metadata": {},
   "outputs": [
    {
     "name": "stdout",
     "output_type": "stream",
     "text": [
      "For values of alpha =  1e-07 The log loss is: 0.6602902109101162\n",
      "For values of alpha =  1e-06 The log loss is: 0.47834786827784703\n",
      "For values of alpha =  1e-05 The log loss is: 0.48499215847332655\n",
      "For values of alpha =  0.0001 The log loss is: 0.500989229303291\n",
      "For values of alpha =  0.001 The log loss is: 0.5063629719533274\n",
      "For values of alpha =  0.01 The log loss is: 0.5016216426348663\n",
      "For values of alpha =  0.1 The log loss is: 0.49124196620156024\n",
      "For values of alpha =  1 The log loss is: 0.5809162546897477\n",
      "For values of alpha =  10 The log loss is: 0.6424070996764703\n"
     ]
    },
    {
     "data": {
      "image/png": "[encoded data removed]",
      "text/plain": [
       "<Figure size 432x288 with 1 Axes>"
      ]
     },
     "metadata": {
      "needs_background": "light"
     },
     "output_type": "display_data"
    },
    {
     "name": "stdout",
     "output_type": "stream",
     "text": [
      "For values of best alpha =  1e-06 The train log loss is: 0.4524965417380067\n",
      "For values of best alpha =  1e-06 The test log loss is: 0.45814612697644275\n",
      "Total number of data points : 30000\n"
     ]
    },
    {
     "data": {
      "image/png": "[encoded data removed]",
      "text/plain": [
       "<Figure size 1440x288 with 6 Axes>"
      ]
     },
     "metadata": {
      "needs_background": "light"
     },
     "output_type": "display_data"
    }
   ],
   "source": [
    "alpha = [10 ** x for x in range(-7, 2)]\n",
    "\n",
    "\n",
    "log_error_array=[]\n",
    "for i in alpha:\n",
    "    clf = SGDClassifier(alpha=i, penalty='l1', loss='hinge', random_state=21,n_jobs=6)\n",
    "    clf.fit(X_train_tfidf, y_train)\n",
    "    sig_clf = CalibratedClassifierCV(clf, method=\"sigmoid\")\n",
    "    sig_clf.fit(X_train_tfidf, y_train)\n",
    "    predict_y = sig_clf.predict_proba(X_test_tfidf)\n",
    "    log_error_array.append(log_loss(y_test, predict_y, labels=clf.classes_, eps=1e-15))\n",
    "    print('For values of alpha = ', i, \"The log loss is:\",log_loss(y_test, predict_y, labels=clf.classes_, eps=1e-15))\n",
    "\n",
    "fig, ax = plt.subplots()\n",
    "ax.plot(alpha, log_error_array,c='g')\n",
    "for i, txt in enumerate(np.round(log_error_array,3)):\n",
    "    ax.annotate((alpha[i],np.round(txt,3)), (alpha[i],log_error_array[i]))\n",
    "plt.grid()\n",
    "plt.title(\"Cross Validation Error for each alpha\")\n",
    "plt.xlabel(\"Alpha i's\")\n",
    "plt.ylabel(\"Error measure\")\n",
    "plt.show()\n",
    "\n",
    "\n",
    "best_alpha = np.argmin(log_error_array)\n",
    "clf = SGDClassifier(alpha=alpha[best_alpha], penalty='l1', loss='hinge', random_state=21,n_jobs=6)\n",
    "clf.fit(X_train_tfidf, y_train)\n",
    "sig_clf = CalibratedClassifierCV(clf, method=\"sigmoid\",cv=10)\n",
    "sig_clf.fit(X_train_tfidf, y_train)\n",
    "\n",
    "predict_y = sig_clf.predict_proba(X_train_tfidf)\n",
    "print('For values of best alpha = ', alpha[best_alpha], \"The train log loss is:\",log_loss(y_train, predict_y, labels=clf.classes_, eps=1e-15))\n",
    "predict_y = sig_clf.predict_proba(X_test_tfidf)\n",
    "print('For values of best alpha = ', alpha[best_alpha], \"The test log loss is:\",log_loss(y_test, predict_y, labels=clf.classes_, eps=1e-15))\n",
    "predicted_y =np.argmax(predict_y,axis=1)\n",
    "print(\"Total number of data points :\", len(predicted_y))\n",
    "plot_confusion_matrix(y_test, predicted_y)"
   ]
  },
  {
   "cell_type": "markdown",
   "metadata": {},
   "source": [
    "# TFIDF-W2V (make own WORD VEC)\n",
    "\n"
   ]
  },
  {
   "cell_type": "code",
   "execution_count": 35,
   "metadata": {},
   "outputs": [],
   "source": [
    "# S = [\"abc def pqr\", \"def def def abc\", \"pqr pqr def\"]\n",
    "tfidf_model1 = TfidfVectorizer()\n",
    "tfidf_model1.fit(X_train['preprocessed_q1'])\n",
    "# we are converting a dictionary with word as a key, and the idf as a value\n",
    "dictionary = dict(zip(tfidf_model1.get_feature_names(), list(tfidf_model1.idf_)))\n",
    "tfidf_words = set(tfidf_model1.get_feature_names())"
   ]
  },
  {
   "cell_type": "code",
   "execution_count": 36,
   "metadata": {},
   "outputs": [],
   "source": [
    "list_preprocessed_q1_xtr = []\n",
    "for e in X_train['preprocessed_q1'].values:\n",
    "    list_preprocessed_q1_xtr.append(e.split())\n",
    "    \n",
    "from gensim.models import Word2Vec\n",
    "preprocessed_q1_xtr=Word2Vec(list_preprocessed_q1_xtr,size=100,workers = 8)"
   ]
  },
  {
   "cell_type": "code",
   "execution_count": 37,
   "metadata": {},
   "outputs": [
    {
     "name": "stderr",
     "output_type": "stream",
     "text": [
      "100%|██████████| 70000/70000 [00:49<00:00, 1425.18it/s]\n"
     ]
    },
    {
     "name": "stdout",
     "output_type": "stream",
     "text": [
      "70000\n",
      "100\n"
     ]
    }
   ],
   "source": [
    "# average Word2Vec\n",
    "# compute average word2vec for Ques1 on train data\n",
    "ques1_xtr_tfidf_w2v_vectors = []; # the avg-w2v for each sentence/review is stored in this list\n",
    "for sentence in tqdm(X_train['preprocessed_q1']): # for each review/sentence\n",
    "    vector = np.zeros(100) # as word vectors are of zero length\n",
    "    tf_idf_weight =0; # num of words with a valid vector in the sentence/review\n",
    "    for word in sentence.split(): # for each word in a review/sentence\n",
    "        if (word in list(preprocessed_q1_xtr.wv.vocab)) and (word in tfidf_words):\n",
    "            vec = preprocessed_q1_xtr[word] # getting the vector for each word\n",
    "            # here we are multiplying idf value(dictionary[word]) and the tf value((sentence.count(word)/len(sentence.split())))\n",
    "            tf_idf = dictionary[word]*(sentence.count(word)/len(sentence.split())) # getting the tfidf value for each word\n",
    "            vector += (vec * tf_idf) # calculating tfidf weighted w2v\n",
    "            tf_idf_weight += tf_idf\n",
    "    if tf_idf_weight != 0:\n",
    "        vector /= tf_idf_weight\n",
    "    ques1_xtr_tfidf_w2v_vectors.append(vector)\n",
    "\n",
    "print(len(ques1_xtr_tfidf_w2v_vectors))\n",
    "print(len(ques1_xtr_tfidf_w2v_vectors[0]))"
   ]
  },
  {
   "cell_type": "code",
   "execution_count": 38,
   "metadata": {},
   "outputs": [
    {
     "name": "stderr",
     "output_type": "stream",
     "text": [
      "100%|██████████| 30000/30000 [00:21<00:00, 1418.95it/s]\n"
     ]
    },
    {
     "name": "stdout",
     "output_type": "stream",
     "text": [
      "30000\n",
      "100\n"
     ]
    }
   ],
   "source": [
    "# compute average word2vec for Ques1 on test data\n",
    "\n",
    "ques1_xtest_tfidf_w2v_vectors = []; # the avg-w2v for each sentence/review is stored in this list\n",
    "for sentence in tqdm(X_test['preprocessed_q1']): # for each review/sentence\n",
    "    vector = np.zeros(100) # as word vectors are of zero length\n",
    "    tf_idf_weight =0; # num of words with a valid vector in the sentence/review\n",
    "    for word in sentence.split(): # for each word in a review/sentence\n",
    "        if (word in list(preprocessed_q1_xtr.wv.vocab)) and (word in tfidf_words):\n",
    "            vec = preprocessed_q1_xtr[word] # getting the vector for each word\n",
    "            # here we are multiplying idf value(dictionary[word]) and the tf value((sentence.count(word)/len(sentence.split())))\n",
    "            tf_idf = dictionary[word]*(sentence.count(word)/len(sentence.split())) # getting the tfidf value for each word\n",
    "            vector += (vec * tf_idf) # calculating tfidf weighted w2v\n",
    "            tf_idf_weight += tf_idf\n",
    "    if tf_idf_weight != 0:\n",
    "        vector /= tf_idf_weight\n",
    "    ques1_xtest_tfidf_w2v_vectors.append(vector)\n",
    "\n",
    "print(len(ques1_xtest_tfidf_w2v_vectors))\n",
    "print(len(ques1_xtest_tfidf_w2v_vectors[0]))"
   ]
  },
  {
   "cell_type": "code",
   "execution_count": 39,
   "metadata": {},
   "outputs": [],
   "source": [
    "# Similarly you can vectorize for ques2 also\n",
    "tfidf_model2 = TfidfVectorizer()\n",
    "tfidf_model2.fit(X_train['preprocessed_q2'])\n",
    "# we are converting a dictionary with word as a key, and the idf as a value\n",
    "dictionary = dict(zip(tfidf_model2.get_feature_names(), list(tfidf_model2.idf_)))\n",
    "tfidf_words = set(tfidf_model2.get_feature_names())"
   ]
  },
  {
   "cell_type": "code",
   "execution_count": 40,
   "metadata": {},
   "outputs": [],
   "source": [
    "list_preprocessed_q2_xtr = []\n",
    "for e in X_train['preprocessed_q2'].values:\n",
    "    list_preprocessed_q2_xtr.append(e.split())\n",
    "    \n",
    "preprocessed_q2_xtr_w2v=Word2Vec(list_preprocessed_q2_xtr,size=100,workers = 8)"
   ]
  },
  {
   "cell_type": "code",
   "execution_count": 41,
   "metadata": {},
   "outputs": [
    {
     "name": "stderr",
     "output_type": "stream",
     "text": [
      "100%|██████████| 70000/70000 [00:47<00:00, 1459.74it/s]\n"
     ]
    },
    {
     "name": "stdout",
     "output_type": "stream",
     "text": [
      "70000\n",
      "100\n"
     ]
    }
   ],
   "source": [
    "q2_xtr_tfidf_w2v_vectors = []; # the avg-w2v for each sentence/review is stored in this list\n",
    "for sentence in tqdm(X_train['preprocessed_q2']): # for each review/sentence\n",
    "    vector = np.zeros(100) # as word vectors are of zero length\n",
    "    tf_idf_weight =0; # num of words with a valid vector in the sentence/review\n",
    "    for word in sentence.split(): # for each word in a review/sentence\n",
    "        if (word in list(preprocessed_q2_xtr_w2v.wv.vocab)) and (word in tfidf_words):\n",
    "            vec = preprocessed_q2_xtr_w2v[word] # getting the vector for each word\n",
    "            # here we are multiplying idf value(dictionary[word]) and the tf value((sentence.count(word)/len(sentence.split())))\n",
    "            tf_idf = dictionary[word]*(sentence.count(word)/len(sentence.split())) # getting the tfidf value for each word\n",
    "            vector += (vec * tf_idf) # calculating tfidf weighted w2v\n",
    "            tf_idf_weight += tf_idf\n",
    "    if tf_idf_weight != 0:\n",
    "        vector /= tf_idf_weight\n",
    "    q2_xtr_tfidf_w2v_vectors.append(vector)\n",
    "\n",
    "print(len(q2_xtr_tfidf_w2v_vectors))\n",
    "print(len(q2_xtr_tfidf_w2v_vectors[0]))"
   ]
  },
  {
   "cell_type": "code",
   "execution_count": 42,
   "metadata": {},
   "outputs": [
    {
     "name": "stderr",
     "output_type": "stream",
     "text": [
      "100%|██████████| 30000/30000 [00:20<00:00, 1438.42it/s]\n"
     ]
    },
    {
     "name": "stdout",
     "output_type": "stream",
     "text": [
      "30000\n",
      "100\n"
     ]
    }
   ],
   "source": [
    "q2_xtest_tfidf_w2v_vectors = []; # the avg-w2v for each sentence/review is stored in this list\n",
    "for sentence in tqdm(X_test['preprocessed_q2']): # for each review/sentence\n",
    "    vector = np.zeros(100) # as word vectors are of zero length\n",
    "    tf_idf_weight =0; # num of words with a valid vector in the sentence/review\n",
    "    for word in sentence.split(): # for each word in a review/sentence\n",
    "        if (word in list(preprocessed_q2_xtr_w2v.wv.vocab)) and (word in tfidf_words):\n",
    "            vec = preprocessed_q2_xtr_w2v[word] # getting the vector for each word\n",
    "            # here we are multiplying idf value(dictionary[word]) and the tf value((sentence.count(word)/len(sentence.split())))\n",
    "            tf_idf = dictionary[word]*(sentence.count(word)/len(sentence.split())) # getting the tfidf value for each word\n",
    "            vector += (vec * tf_idf) # calculating tfidf weighted w2v\n",
    "            tf_idf_weight += tf_idf\n",
    "    if tf_idf_weight != 0:\n",
    "        vector /= tf_idf_weight\n",
    "    q2_xtest_tfidf_w2v_vectors.append(vector)\n",
    "\n",
    "print(len(q2_xtest_tfidf_w2v_vectors))\n",
    "print(len(q2_xtest_tfidf_w2v_vectors[0]))"
   ]
  },
  {
   "cell_type": "code",
   "execution_count": 43,
   "metadata": {},
   "outputs": [
    {
     "name": "stdout",
     "output_type": "stream",
     "text": [
      "(70000, 226)\n",
      "(30000, 226)\n"
     ]
    }
   ],
   "source": [
    "# Merge TFIDF-W2v and all other tokenized features\n",
    "\n",
    "X_train_tfidf_w2v = np.hstack((ques1_xtr_tfidf_w2v_vectors,q2_xtr_tfidf_w2v_vectors,X_train_idf.values))\n",
    "\n",
    "X_test_tfidf_w2v = np.hstack((ques1_xtest_tfidf_w2v_vectors,q2_xtest_tfidf_w2v_vectors,X_test_idf.values))\n",
    "\n",
    "print(X_train_tfidf_w2v.shape)\n",
    "print(X_test_tfidf_w2v.shape)"
   ]
  },
  {
   "cell_type": "markdown",
   "metadata": {},
   "source": [
    "# Train XGBoost on TFIDF-W2V  "
   ]
  },
  {
   "cell_type": "code",
   "execution_count": 46,
   "metadata": {
    "scrolled": true
   },
   "outputs": [
    {
     "name": "stdout",
     "output_type": "stream",
     "text": [
      "Fitting 10 folds for each of 10 candidates, totalling 100 fits\n"
     ]
    },
    {
     "name": "stderr",
     "output_type": "stream",
     "text": [
      "[Parallel(n_jobs=6)]: Using backend LokyBackend with 6 concurrent workers.\n",
      "[Parallel(n_jobs=6)]: Done   1 tasks      | elapsed:  2.8min\n",
      "[Parallel(n_jobs=6)]: Done   2 tasks      | elapsed:  2.8min\n",
      "[Parallel(n_jobs=6)]: Done   3 tasks      | elapsed:  2.8min\n",
      "[Parallel(n_jobs=6)]: Done   4 tasks      | elapsed:  2.8min\n",
      "[Parallel(n_jobs=6)]: Done   5 tasks      | elapsed:  2.8min\n",
      "[Parallel(n_jobs=6)]: Done   6 tasks      | elapsed:  2.9min\n",
      "[Parallel(n_jobs=6)]: Done   7 tasks      | elapsed:  5.5min\n",
      "[Parallel(n_jobs=6)]: Done   8 tasks      | elapsed:  5.5min\n",
      "[Parallel(n_jobs=6)]: Done   9 tasks      | elapsed:  5.5min\n",
      "[Parallel(n_jobs=6)]: Done  10 tasks      | elapsed:  5.6min\n",
      "[Parallel(n_jobs=6)]: Done  11 tasks      | elapsed:  6.3min\n",
      "[Parallel(n_jobs=6)]: Done  12 tasks      | elapsed:  6.3min\n",
      "[Parallel(n_jobs=6)]: Done  13 tasks      | elapsed:  9.0min\n",
      "[Parallel(n_jobs=6)]: Done  14 tasks      | elapsed:  9.0min\n",
      "[Parallel(n_jobs=6)]: Done  15 tasks      | elapsed:  9.0min\n",
      "[Parallel(n_jobs=6)]: Done  16 tasks      | elapsed:  9.1min\n",
      "[Parallel(n_jobs=6)]: Done  17 tasks      | elapsed:  9.7min\n",
      "[Parallel(n_jobs=6)]: Done  18 tasks      | elapsed:  9.8min\n",
      "[Parallel(n_jobs=6)]: Done  19 tasks      | elapsed: 12.4min\n",
      "[Parallel(n_jobs=6)]: Done  20 tasks      | elapsed: 12.4min\n",
      "[Parallel(n_jobs=6)]: Done  21 tasks      | elapsed: 15.4min\n",
      "[Parallel(n_jobs=6)]: Done  22 tasks      | elapsed: 15.5min\n",
      "[Parallel(n_jobs=6)]: Done  23 tasks      | elapsed: 16.1min\n",
      "[Parallel(n_jobs=6)]: Done  24 tasks      | elapsed: 16.3min\n",
      "[Parallel(n_jobs=6)]: Done  25 tasks      | elapsed: 18.5min\n",
      "[Parallel(n_jobs=6)]: Done  26 tasks      | elapsed: 18.6min\n",
      "[Parallel(n_jobs=6)]: Done  27 tasks      | elapsed: 21.6min\n",
      "[Parallel(n_jobs=6)]: Done  28 tasks      | elapsed: 21.8min\n",
      "[Parallel(n_jobs=6)]: Done  29 tasks      | elapsed: 22.5min\n",
      "[Parallel(n_jobs=6)]: Done  30 tasks      | elapsed: 22.9min\n",
      "[Parallel(n_jobs=6)]: Done  31 tasks      | elapsed: 26.6min\n",
      "[Parallel(n_jobs=6)]: Done  32 tasks      | elapsed: 26.7min\n",
      "[Parallel(n_jobs=6)]: Done  33 tasks      | elapsed: 29.7min\n",
      "[Parallel(n_jobs=6)]: Done  34 tasks      | elapsed: 29.9min\n",
      "[Parallel(n_jobs=6)]: Done  35 tasks      | elapsed: 30.5min\n",
      "[Parallel(n_jobs=6)]: Done  36 tasks      | elapsed: 31.0min\n",
      "[Parallel(n_jobs=6)]: Done  37 tasks      | elapsed: 34.3min\n",
      "[Parallel(n_jobs=6)]: Done  38 tasks      | elapsed: 34.4min\n",
      "[Parallel(n_jobs=6)]: Done  39 tasks      | elapsed: 34.4min\n",
      "[Parallel(n_jobs=6)]: Done  40 tasks      | elapsed: 34.9min\n",
      "[Parallel(n_jobs=6)]: Done  41 tasks      | elapsed: 37.8min\n",
      "[Parallel(n_jobs=6)]: Done  42 tasks      | elapsed: 37.9min\n",
      "[Parallel(n_jobs=6)]: Done  43 tasks      | elapsed: 38.3min\n",
      "[Parallel(n_jobs=6)]: Done  44 tasks      | elapsed: 38.4min\n",
      "[Parallel(n_jobs=6)]: Done  45 tasks      | elapsed: 38.5min\n",
      "[Parallel(n_jobs=6)]: Done  46 tasks      | elapsed: 39.1min\n",
      "[Parallel(n_jobs=6)]: Done  47 tasks      | elapsed: 41.9min\n",
      "[Parallel(n_jobs=6)]: Done  48 tasks      | elapsed: 41.9min\n",
      "[Parallel(n_jobs=6)]: Done  49 tasks      | elapsed: 42.0min\n",
      "[Parallel(n_jobs=6)]: Done  50 tasks      | elapsed: 42.4min\n",
      "[Parallel(n_jobs=6)]: Done  51 tasks      | elapsed: 42.5min\n",
      "[Parallel(n_jobs=6)]: Done  52 tasks      | elapsed: 42.7min\n",
      "[Parallel(n_jobs=6)]: Done  53 tasks      | elapsed: 45.4min\n",
      "[Parallel(n_jobs=6)]: Done  54 tasks      | elapsed: 45.4min\n",
      "[Parallel(n_jobs=6)]: Done  55 tasks      | elapsed: 45.5min\n",
      "[Parallel(n_jobs=6)]: Done  56 tasks      | elapsed: 45.8min\n",
      "[Parallel(n_jobs=6)]: Done  57 tasks      | elapsed: 45.9min\n",
      "[Parallel(n_jobs=6)]: Done  58 tasks      | elapsed: 46.2min\n",
      "[Parallel(n_jobs=6)]: Done  59 tasks      | elapsed: 48.8min\n",
      "[Parallel(n_jobs=6)]: Done  60 tasks      | elapsed: 48.8min\n",
      "[Parallel(n_jobs=6)]: Done  61 tasks      | elapsed: 50.8min\n",
      "[Parallel(n_jobs=6)]: Done  62 tasks      | elapsed: 51.1min\n",
      "[Parallel(n_jobs=6)]: Done  63 tasks      | elapsed: 51.2min\n",
      "[Parallel(n_jobs=6)]: Done  64 tasks      | elapsed: 51.6min\n",
      "[Parallel(n_jobs=6)]: Done  65 tasks      | elapsed: 54.2min\n",
      "[Parallel(n_jobs=6)]: Done  66 tasks      | elapsed: 54.3min\n",
      "[Parallel(n_jobs=6)]: Done  67 tasks      | elapsed: 56.1min\n",
      "[Parallel(n_jobs=6)]: Done  68 tasks      | elapsed: 56.3min\n",
      "[Parallel(n_jobs=6)]: Done  69 tasks      | elapsed: 56.4min\n",
      "[Parallel(n_jobs=6)]: Done  70 tasks      | elapsed: 57.0min\n",
      "[Parallel(n_jobs=6)]: Done  71 tasks      | elapsed: 57.6min\n",
      "[Parallel(n_jobs=6)]: Done  72 tasks      | elapsed: 57.7min\n",
      "[Parallel(n_jobs=6)]: Done  73 tasks      | elapsed: 59.5min\n",
      "[Parallel(n_jobs=6)]: Done  74 tasks      | elapsed: 59.8min\n",
      "[Parallel(n_jobs=6)]: Done  75 tasks      | elapsed: 59.8min\n",
      "[Parallel(n_jobs=6)]: Done  76 tasks      | elapsed: 60.4min\n",
      "[Parallel(n_jobs=6)]: Done  77 tasks      | elapsed: 61.0min\n",
      "[Parallel(n_jobs=6)]: Done  78 tasks      | elapsed: 61.1min\n",
      "[Parallel(n_jobs=6)]: Done  79 tasks      | elapsed: 62.6min\n",
      "[Parallel(n_jobs=6)]: Done  80 tasks      | elapsed: 63.0min\n",
      "[Parallel(n_jobs=6)]: Done  81 tasks      | elapsed: 63.2min\n",
      "[Parallel(n_jobs=6)]: Done  82 tasks      | elapsed: 63.2min\n",
      "[Parallel(n_jobs=6)]: Done  83 tasks      | elapsed: 63.8min\n",
      "[Parallel(n_jobs=6)]: Done  84 tasks      | elapsed: 63.9min\n",
      "[Parallel(n_jobs=6)]: Done  85 tasks      | elapsed: 65.4min\n",
      "[Parallel(n_jobs=6)]: Done  86 tasks      | elapsed: 65.8min\n",
      "[Parallel(n_jobs=6)]: Done  87 tasks      | elapsed: 66.0min\n",
      "[Parallel(n_jobs=6)]: Done  88 tasks      | elapsed: 66.1min\n",
      "[Parallel(n_jobs=6)]: Done  89 tasks      | elapsed: 67.2min\n",
      "[Parallel(n_jobs=6)]: Done  94 out of 100 | elapsed: 68.9min remaining:  4.4min\n",
      "[Parallel(n_jobs=6)]: Done 100 out of 100 | elapsed: 70.8min finished\n"
     ]
    },
    {
     "data": {
      "text/plain": [
       "({'min_child_weight': 5, 'max_depth': 10}, 0.9242843782278228)"
      ]
     },
     "execution_count": 46,
     "metadata": {},
     "output_type": "execute_result"
    }
   ],
   "source": [
    "import xgboost as xgb\n",
    "from sklearn.model_selection import RandomizedSearchCV\n",
    "\n",
    "params={\n",
    " \"max_depth\"               : [ 3, 4, 5, 6, 8, 10, 12, 15,20],\n",
    " \"min_child_weight\"        : [ 1, 3, 5, 7 ,10],\n",
    "\n",
    "  }\n",
    "estimator1 = xgb.XGBClassifier(objective= 'binary:logistic',\n",
    "eval_metric= 'logloss',scale_pos_weight = 1,random_state=123)\n",
    "Rsearch1= RandomizedSearchCV(estimator1,param_distributions=params,scoring='roc_auc',n_jobs=6,iid=False, cv=10,verbose=21,random_state=123)\n",
    "Rsearch1.fit(X_train_tfidf_w2v,y_train)\n",
    "Rsearch1.best_params_, Rsearch1.best_score_\n"
   ]
  },
  {
   "cell_type": "code",
   "execution_count": 44,
   "metadata": {},
   "outputs": [],
   "source": [
    "w=Rsearch1.best_params_[\"min_child_weight\"]\n",
    "d=Rsearch1.best_params_['max_depth']"
   ]
  },
  {
   "cell_type": "code",
   "execution_count": 47,
   "metadata": {
    "scrolled": true
   },
   "outputs": [
    {
     "name": "stdout",
     "output_type": "stream",
     "text": [
      "Fitting 10 folds for each of 10 candidates, totalling 100 fits\n"
     ]
    },
    {
     "name": "stderr",
     "output_type": "stream",
     "text": [
      "[Parallel(n_jobs=-1)]: Using backend LokyBackend with 12 concurrent workers.\n",
      "[Parallel(n_jobs=-1)]: Done   1 tasks      | elapsed:  5.3min\n",
      "[Parallel(n_jobs=-1)]: Done   2 tasks      | elapsed:  5.3min\n",
      "[Parallel(n_jobs=-1)]: Done   3 tasks      | elapsed:  5.4min\n",
      "[Parallel(n_jobs=-1)]: Done   4 tasks      | elapsed:  5.4min\n",
      "[Parallel(n_jobs=-1)]: Done   5 tasks      | elapsed:  5.4min\n",
      "[Parallel(n_jobs=-1)]: Done   6 tasks      | elapsed:  5.5min\n",
      "[Parallel(n_jobs=-1)]: Done   7 tasks      | elapsed:  5.5min\n",
      "[Parallel(n_jobs=-1)]: Done   8 tasks      | elapsed:  5.5min\n",
      "[Parallel(n_jobs=-1)]: Done   9 tasks      | elapsed:  5.5min\n",
      "[Parallel(n_jobs=-1)]: Done  10 tasks      | elapsed:  5.6min\n",
      "[Parallel(n_jobs=-1)]: Done  11 tasks      | elapsed:  6.2min\n",
      "[Parallel(n_jobs=-1)]: Done  12 tasks      | elapsed:  6.3min\n",
      "[Parallel(n_jobs=-1)]: Done  13 tasks      | elapsed: 11.3min\n",
      "[Parallel(n_jobs=-1)]: Done  14 tasks      | elapsed: 11.3min\n",
      "[Parallel(n_jobs=-1)]: Done  15 tasks      | elapsed: 11.4min\n",
      "[Parallel(n_jobs=-1)]: Done  16 tasks      | elapsed: 11.4min\n",
      "[Parallel(n_jobs=-1)]: Done  17 tasks      | elapsed: 11.4min\n",
      "[Parallel(n_jobs=-1)]: Done  18 tasks      | elapsed: 11.5min\n",
      "[Parallel(n_jobs=-1)]: Done  19 tasks      | elapsed: 11.6min\n",
      "[Parallel(n_jobs=-1)]: Done  20 tasks      | elapsed: 11.7min\n",
      "[Parallel(n_jobs=-1)]: Done  21 tasks      | elapsed: 16.0min\n",
      "[Parallel(n_jobs=-1)]: Done  22 tasks      | elapsed: 16.1min\n",
      "[Parallel(n_jobs=-1)]: Done  23 tasks      | elapsed: 16.5min\n",
      "[Parallel(n_jobs=-1)]: Done  24 tasks      | elapsed: 16.8min\n",
      "[Parallel(n_jobs=-1)]: Done  25 tasks      | elapsed: 19.6min\n",
      "[Parallel(n_jobs=-1)]: Done  26 tasks      | elapsed: 19.8min\n",
      "[Parallel(n_jobs=-1)]: Done  27 tasks      | elapsed: 21.7min\n",
      "[Parallel(n_jobs=-1)]: Done  28 tasks      | elapsed: 21.8min\n",
      "[Parallel(n_jobs=-1)]: Done  29 tasks      | elapsed: 21.8min\n",
      "[Parallel(n_jobs=-1)]: Done  30 tasks      | elapsed: 21.8min\n",
      "[Parallel(n_jobs=-1)]: Done  31 tasks      | elapsed: 21.9min\n",
      "[Parallel(n_jobs=-1)]: Done  32 tasks      | elapsed: 22.1min\n",
      "[Parallel(n_jobs=-1)]: Done  33 tasks      | elapsed: 24.1min\n",
      "[Parallel(n_jobs=-1)]: Done  34 tasks      | elapsed: 24.2min\n",
      "[Parallel(n_jobs=-1)]: Done  35 tasks      | elapsed: 24.4min\n",
      "[Parallel(n_jobs=-1)]: Done  36 tasks      | elapsed: 24.7min\n",
      "[Parallel(n_jobs=-1)]: Done  37 tasks      | elapsed: 26.7min\n",
      "[Parallel(n_jobs=-1)]: Done  38 tasks      | elapsed: 26.8min\n",
      "[Parallel(n_jobs=-1)]: Done  39 tasks      | elapsed: 26.8min\n",
      "[Parallel(n_jobs=-1)]: Done  40 tasks      | elapsed: 27.0min\n",
      "[Parallel(n_jobs=-1)]: Done  41 tasks      | elapsed: 27.7min\n",
      "[Parallel(n_jobs=-1)]: Done  42 tasks      | elapsed: 27.8min\n",
      "[Parallel(n_jobs=-1)]: Done  43 tasks      | elapsed: 29.1min\n",
      "[Parallel(n_jobs=-1)]: Done  44 tasks      | elapsed: 29.2min\n",
      "[Parallel(n_jobs=-1)]: Done  45 tasks      | elapsed: 29.4min\n",
      "[Parallel(n_jobs=-1)]: Done  46 tasks      | elapsed: 29.7min\n",
      "[Parallel(n_jobs=-1)]: Done  47 tasks      | elapsed: 29.7min\n",
      "[Parallel(n_jobs=-1)]: Done  48 tasks      | elapsed: 29.7min\n",
      "[Parallel(n_jobs=-1)]: Done  49 tasks      | elapsed: 31.7min\n",
      "[Parallel(n_jobs=-1)]: Done  50 tasks      | elapsed: 31.8min\n",
      "[Parallel(n_jobs=-1)]: Done  51 tasks      | elapsed: 37.1min\n",
      "[Parallel(n_jobs=-1)]: Done  52 tasks      | elapsed: 37.3min\n",
      "[Parallel(n_jobs=-1)]: Done  53 tasks      | elapsed: 38.3min\n",
      "[Parallel(n_jobs=-1)]: Done  54 tasks      | elapsed: 38.3min\n",
      "[Parallel(n_jobs=-1)]: Done  55 tasks      | elapsed: 39.7min\n",
      "[Parallel(n_jobs=-1)]: Done  56 tasks      | elapsed: 39.7min\n",
      "[Parallel(n_jobs=-1)]: Done  57 tasks      | elapsed: 39.9min\n",
      "[Parallel(n_jobs=-1)]: Done  58 tasks      | elapsed: 40.2min\n",
      "[Parallel(n_jobs=-1)]: Done  59 tasks      | elapsed: 40.2min\n",
      "[Parallel(n_jobs=-1)]: Done  60 tasks      | elapsed: 40.4min\n",
      "[Parallel(n_jobs=-1)]: Done  61 tasks      | elapsed: 42.6min\n",
      "[Parallel(n_jobs=-1)]: Done  62 tasks      | elapsed: 42.8min\n",
      "[Parallel(n_jobs=-1)]: Done  63 tasks      | elapsed: 46.9min\n",
      "[Parallel(n_jobs=-1)]: Done  64 tasks      | elapsed: 47.0min\n",
      "[Parallel(n_jobs=-1)]: Done  65 tasks      | elapsed: 48.1min\n",
      "[Parallel(n_jobs=-1)]: Done  66 tasks      | elapsed: 48.2min\n",
      "[Parallel(n_jobs=-1)]: Done  67 tasks      | elapsed: 49.0min\n",
      "[Parallel(n_jobs=-1)]: Done  68 tasks      | elapsed: 49.1min\n",
      "[Parallel(n_jobs=-1)]: Done  69 tasks      | elapsed: 49.4min\n",
      "[Parallel(n_jobs=-1)]: Done  70 tasks      | elapsed: 49.4min\n",
      "[Parallel(n_jobs=-1)]: Done  71 tasks      | elapsed: 50.7min\n",
      "[Parallel(n_jobs=-1)]: Done  72 tasks      | elapsed: 50.9min\n",
      "[Parallel(n_jobs=-1)]: Done  73 tasks      | elapsed: 51.0min\n",
      "[Parallel(n_jobs=-1)]: Done  74 tasks      | elapsed: 51.1min\n",
      "[Parallel(n_jobs=-1)]: Done  75 tasks      | elapsed: 53.7min\n",
      "[Parallel(n_jobs=-1)]: Done  76 tasks      | elapsed: 53.9min\n",
      "[Parallel(n_jobs=-1)]: Done  77 tasks      | elapsed: 54.9min\n",
      "[Parallel(n_jobs=-1)]: Done  82 out of 100 | elapsed: 55.8min remaining: 12.2min\n",
      "[Parallel(n_jobs=-1)]: Done  87 out of 100 | elapsed: 58.8min remaining:  8.8min\n",
      "[Parallel(n_jobs=-1)]: Done  92 out of 100 | elapsed: 62.9min remaining:  5.5min\n",
      "[Parallel(n_jobs=-1)]: Done  97 out of 100 | elapsed: 63.6min remaining:  2.0min\n",
      "[Parallel(n_jobs=-1)]: Done 100 out of 100 | elapsed: 64.7min finished\n"
     ]
    },
    {
     "data": {
      "text/plain": [
       "({'subsample': 0.9, 'colsample_bytree': 0.9}, 0.9250906938843195)"
      ]
     },
     "execution_count": 47,
     "metadata": {},
     "output_type": "execute_result"
    }
   ],
   "source": [
    "import xgboost as xgb\n",
    "from sklearn.model_selection import RandomizedSearchCV\n",
    "\n",
    "params={\n",
    "\n",
    " \"colsample_bytree\"        : [0.3, 0.4, 0.5 , 0.7 ,0.9],\n",
    " 'subsample'               :[0.75,0.80,0.85,0.90],\n",
    " \n",
    "  }\n",
    "estimator2 =xgb.XGBClassifier(objective= 'binary:logistic',\n",
    "eval_metric= 'logloss',scale_pos_weight = 1,random_state=21,min_child_weight = w,max_depth = d)\n",
    "Rsearch2= RandomizedSearchCV(estimator2,param_distributions=params,scoring='roc_auc',n_jobs=-1,iid=False, cv=10,verbose=21,random_state=21)\n",
    "Rsearch2.fit(X_train_tfidf_w2v,y_train)\n",
    "Rsearch2.best_params_, Rsearch2.best_score_\n"
   ]
  },
  {
   "cell_type": "code",
   "execution_count": 48,
   "metadata": {},
   "outputs": [],
   "source": [
    "c=Rsearch2.best_params_[\"colsample_bytree\"]\n",
    "s=Rsearch2.best_params_['subsample']"
   ]
  },
  {
   "cell_type": "code",
   "execution_count": 59,
   "metadata": {
    "scrolled": true
   },
   "outputs": [
    {
     "name": "stdout",
     "output_type": "stream",
     "text": [
      "[0]\ttrain-logloss:0.682486\tvalid-logloss:0.683074\n",
      "Multiple eval metrics have been passed: 'valid-logloss' will be used for early stopping.\n",
      "\n",
      "Will train until valid-logloss hasn't improved in 20 rounds.\n",
      "[10]\ttrain-logloss:0.594782\tvalid-logloss:0.600993\n",
      "[20]\ttrain-logloss:0.531191\tvalid-logloss:0.542417\n",
      "[30]\ttrain-logloss:0.482881\tvalid-logloss:0.498788\n",
      "[40]\ttrain-logloss:0.445504\tvalid-logloss:0.465788\n",
      "[50]\ttrain-logloss:0.415647\tvalid-logloss:0.440021\n",
      "[60]\ttrain-logloss:0.39147\tvalid-logloss:0.419743\n",
      "[70]\ttrain-logloss:0.371594\tvalid-logloss:0.403776\n",
      "[80]\ttrain-logloss:0.355208\tvalid-logloss:0.390919\n",
      "[90]\ttrain-logloss:0.341171\tvalid-logloss:0.380444\n",
      "[100]\ttrain-logloss:0.329731\tvalid-logloss:0.372023\n",
      "[110]\ttrain-logloss:0.319742\tvalid-logloss:0.365103\n",
      "[120]\ttrain-logloss:0.31147\tvalid-logloss:0.35959\n",
      "[130]\ttrain-logloss:0.304286\tvalid-logloss:0.354969\n",
      "[140]\ttrain-logloss:0.297939\tvalid-logloss:0.351038\n",
      "[150]\ttrain-logloss:0.292017\tvalid-logloss:0.347675\n",
      "[160]\ttrain-logloss:0.286927\tvalid-logloss:0.344866\n",
      "[170]\ttrain-logloss:0.282415\tvalid-logloss:0.342499\n",
      "[180]\ttrain-logloss:0.278296\tvalid-logloss:0.340541\n",
      "[190]\ttrain-logloss:0.274681\tvalid-logloss:0.338765\n",
      "[200]\ttrain-logloss:0.271164\tvalid-logloss:0.337378\n",
      "[210]\ttrain-logloss:0.267876\tvalid-logloss:0.336149\n",
      "[220]\ttrain-logloss:0.265053\tvalid-logloss:0.335112\n",
      "[230]\ttrain-logloss:0.262511\tvalid-logloss:0.334184\n",
      "[240]\ttrain-logloss:0.259453\tvalid-logloss:0.333233\n",
      "[250]\ttrain-logloss:0.256833\tvalid-logloss:0.332332\n",
      "[260]\ttrain-logloss:0.254379\tvalid-logloss:0.331618\n",
      "[270]\ttrain-logloss:0.251938\tvalid-logloss:0.330897\n",
      "[280]\ttrain-logloss:0.249247\tvalid-logloss:0.330333\n",
      "[290]\ttrain-logloss:0.246443\tvalid-logloss:0.329699\n",
      "[300]\ttrain-logloss:0.243583\tvalid-logloss:0.329049\n",
      "[310]\ttrain-logloss:0.240911\tvalid-logloss:0.328533\n",
      "[320]\ttrain-logloss:0.238019\tvalid-logloss:0.327931\n",
      "[330]\ttrain-logloss:0.235714\tvalid-logloss:0.327427\n",
      "[340]\ttrain-logloss:0.233162\tvalid-logloss:0.327087\n",
      "[350]\ttrain-logloss:0.230327\tvalid-logloss:0.326681\n",
      "[360]\ttrain-logloss:0.227932\tvalid-logloss:0.326318\n",
      "[370]\ttrain-logloss:0.225529\tvalid-logloss:0.325961\n",
      "[380]\ttrain-logloss:0.222898\tvalid-logloss:0.32563\n",
      "[390]\ttrain-logloss:0.220195\tvalid-logloss:0.325234\n",
      "[399]\ttrain-logloss:0.217421\tvalid-logloss:0.324991\n",
      "The test log loss is: 0.32499052897984315\n"
     ]
    }
   ],
   "source": [
    "# train Final Xgboost model using all tunned hyperParameters\n",
    "\n",
    "import xgboost as xgb\n",
    "params = {}\n",
    "params['objective'] = 'binary:logistic'\n",
    "params['eval_metric'] = 'logloss'\n",
    "params['eta'] = 0.02\n",
    "params['max_depth'] = d\n",
    "\n",
    "params['min_child_weight'] = w\n",
    "params['colsample_bytree'] = c\n",
    "params['subsample'] = s    \n",
    "\n",
    "\n",
    "\n",
    "d_train = xgb.DMatrix(X_train_tfidf_w2v, label=y_train)\n",
    "d_test = xgb.DMatrix(X_test_tfidf_w2v, label=y_test)\n",
    "\n",
    "watchlist = [(d_train, 'train'), (d_test, 'valid')]\n",
    "\n",
    "bst = xgb.train(params, d_train, 400, watchlist, early_stopping_rounds=20, verbose_eval=10)\n",
    "\n",
    "xgdmat = xgb.DMatrix(X_train_tfidf_w2v,y_train)\n",
    "predict_y = bst.predict(d_test)\n",
    "print(\"The test log loss is:\",log_loss(y_test, predict_y, labels=clf.classes_, eps=1e-15))"
   ]
  },
  {
   "cell_type": "code",
   "execution_count": 60,
   "metadata": {},
   "outputs": [
    {
     "name": "stdout",
     "output_type": "stream",
     "text": [
      "Total number of data points : 30000\n"
     ]
    },
    {
     "data": {
      "image/png": "[encoded data removed]",
      "text/plain": [
       "<Figure size 1440x288 with 6 Axes>"
      ]
     },
     "metadata": {
      "needs_background": "light"
     },
     "output_type": "display_data"
    }
   ],
   "source": [
    "predicted_y =np.array(predict_y>0.5,dtype=int)\n",
    "print(\"Total number of data points :\", len(predicted_y))\n",
    "plot_confusion_matrix(y_test, predicted_y)"
   ]
  }
 ],
 "metadata": {
  "kernelspec": {
   "display_name": "Python 3",
   "language": "python",
   "name": "python3"
  },
  "language_info": {
   "codemirror_mode": {
    "name": "ipython",
    "version": 3
   },
   "file_extension": ".py",
   "mimetype": "text/x-python",
   "name": "python",
   "nbconvert_exporter": "python",
   "pygments_lexer": "ipython3",
   "version": "3.7.3"
  }
 },
 "nbformat": 4,
 "nbformat_minor": 2
}
